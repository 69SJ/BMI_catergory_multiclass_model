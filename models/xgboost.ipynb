{
 "cells": [
  {
   "cell_type": "code",
   "execution_count": 23,
   "id": "initial_id",
   "metadata": {
    "ExecuteTime": {
     "end_time": "2025-03-03T07:25:25.609067Z",
     "start_time": "2025-03-03T07:25:25.605764Z"
    }
   },
   "outputs": [],
   "source": [
    "import numpy as np\n",
    "import pandas as pd\n",
    "from functools import reduce\n",
    "from sklearn.model_selection import train_test_split\n",
    "from sklearn.ensemble import RandomForestClassifier\n",
    "from sklearn.inspection import permutation_importance\n",
    "from sklearn.metrics import classification_report\n",
    "from sklearn.preprocessing import StandardScaler\n",
    "from imblearn.over_sampling import SMOTE\n",
    "from xgboost import XGBClassifier\n",
    "from sklearn.preprocessing import LabelEncoder\n",
    "import matplotlib.pyplot as plt\n",
    "import numpy as np"
   ]
  },
  {
   "cell_type": "code",
   "execution_count": 24,
   "id": "f5592328bb3502d6",
   "metadata": {
    "ExecuteTime": {
     "end_time": "2025-03-03T07:23:50.196312Z",
     "start_time": "2025-03-03T07:23:50.182081Z"
    }
   },
   "outputs": [
    {
     "name": "stdout",
     "output_type": "stream",
     "text": [
      "First few rows of cleaned WHQ_df:\n",
      "       SEQN     BMI_category\n",
      "0  130378.0       Overweight\n",
      "1  130379.0  Class 1 Obesity\n",
      "2  130380.0       Overweight\n",
      "3  130384.0  Class 1 Obesity\n",
      "4  130385.0  Class 1 Obesity\n"
     ]
    }
   ],
   "source": [
    "# -------------------------------\n",
    "# Step 1: Load and Clean WHQ_df (with BMI Calculation)\n",
    "# -------------------------------\n",
    "WHQ_df = pd.read_csv('WHQ_L.csv')\n",
    "\n",
    "# Replace the placeholder values (7777, 9999, and blanks) with NaN\n",
    "WHQ_df.replace({7777: np.nan, 9999: np.nan}, inplace=True)\n",
    "WHQ_df.replace(r'^\\s*$', np.nan, regex=True, inplace=True)\n",
    "WHQ_df.dropna(inplace=True)\n",
    "\n",
    "# Calculate BMI using the formula: BMI = (weight in lbs / (height in inches)^2) * 703\n",
    "WHQ_df['BMI'] = (WHQ_df['WHD020'] / (WHQ_df['WHD010'] ** 2)) * 703\n",
    "\n",
    "# Define a function to classify BMI\n",
    "def classify_bmi(bmi):\n",
    "    if bmi < 18.5:\n",
    "        return 'Underweight'\n",
    "    elif bmi < 25:\n",
    "        return 'Healthy Weight'\n",
    "    elif bmi < 30:\n",
    "        return 'Overweight'\n",
    "    elif bmi < 35:\n",
    "        return 'Class 1 Obesity'\n",
    "    elif bmi < 40:\n",
    "        return 'Class 2 Obesity'\n",
    "    else:\n",
    "        return 'Class 3 Obesity'\n",
    "\n",
    "# Apply the classification to create a new column\n",
    "WHQ_df['BMI_category'] = WHQ_df['BMI'].apply(classify_bmi)\n",
    "\n",
    "WHQ_df.drop(['WHD010', 'WHD020', 'WHD050' ,'WHQ070', 'BMI' ], axis=1, inplace=True)\n",
    "\n",
    "print(\"First few rows of cleaned WHQ_df:\")\n",
    "print(WHQ_df.head())"
   ]
  },
  {
   "cell_type": "code",
   "execution_count": 25,
   "id": "25fe04575068508a",
   "metadata": {
    "ExecuteTime": {
     "end_time": "2025-03-03T07:23:53.213194Z",
     "start_time": "2025-03-03T07:23:52.371367Z"
    }
   },
   "outputs": [],
   "source": [
    "# -------------------------------\n",
    "# Step 2: Load the Other DataFrames\n",
    "# -------------------------------\n",
    "ALQ_df = pd.read_csv('ALQ_L.csv')\n",
    "BAX_df = pd.read_csv('BAX_L.csv')\n",
    "#BMX_df    = pd.read_csv('BMX_L.csv')\n",
    "BPQ_df = pd.read_csv('BPQ_L.csv')\n",
    "BPXO_df = pd.read_csv('BPXO_L.csv')\n",
    "DBQ_df = pd.read_csv('DBQ_L.csv')\n",
    "DEMO_df = pd.read_csv('DEMO_L.csv')\n",
    "DR1IFF_df = pd.read_csv('DR1IFF_L.csv')\n",
    "MCQ_df = pd.read_csv('MCQ_L.csv')\n",
    "PAQ_df = pd.read_csv('PAQ_L.csv')\n",
    "# Note: WHQ_df is already loaded and processed above."
   ]
  },
  {
   "cell_type": "code",
   "execution_count": 26,
   "id": "5847aa92223f5aab",
   "metadata": {
    "ExecuteTime": {
     "end_time": "2025-03-03T07:23:55.640668Z",
     "start_time": "2025-03-03T07:23:54.926760Z"
    }
   },
   "outputs": [
    {
     "name": "stdout",
     "output_type": "stream",
     "text": [
      "Columns in merged_df:\n",
      "Index(['SEQN', 'ALQ111', 'ALQ121', 'ALQ130', 'ALQ142', 'ALQ270', 'ALQ280',\n",
      "       'ALQ151', 'ALQ170', 'BAXMSTAT',\n",
      "       ...\n",
      "       'MCQ230D', 'OSQ230', 'PAD790Q', 'PAD790U', 'PAD800', 'PAD810Q',\n",
      "       'PAD810U', 'PAD820', 'PAD680', 'BMI_category'],\n",
      "      dtype='object', length=246)\n"
     ]
    }
   ],
   "source": [
    "# -------------------------------\n",
    "# Step 3: Merge All DataFrames on 'SEQN'\n",
    "# -------------------------------\n",
    "dfs = [ALQ_df, BAX_df, BPQ_df, BPXO_df, DBQ_df, DEMO_df, DR1IFF_df, MCQ_df, PAQ_df, WHQ_df]\n",
    "merged_df = reduce(lambda left, right: pd.merge(left, right, on='SEQN', how='outer'), dfs)\n",
    "\n",
    "print(\"Columns in merged_df:\")\n",
    "print(merged_df.columns)"
   ]
  },
  {
   "cell_type": "code",
   "execution_count": 27,
   "id": "34a31ca4ab880663",
   "metadata": {
    "ExecuteTime": {
     "end_time": "2025-03-03T07:23:57.112575Z",
     "start_time": "2025-03-03T07:23:56.884088Z"
    }
   },
   "outputs": [],
   "source": [
    "# -------------------------------\n",
    "# Step 4: Clean Merged Data\n",
    "# -------------------------------\n",
    "# Drop rows missing the target 'BMI_category'\n",
    "merged_df.dropna(subset=['BMI_category'], inplace=True)\n",
    "\n",
    "# Fill missing values with 0 for all remaining columns\n",
    "merged_df.fillna(0, inplace=True)"
   ]
  },
  {
   "cell_type": "code",
   "execution_count": 28,
   "id": "b9d6937f14d63df7",
   "metadata": {
    "ExecuteTime": {
     "end_time": "2025-03-03T07:23:58.599359Z",
     "start_time": "2025-03-03T07:23:58.497602Z"
    }
   },
   "outputs": [],
   "source": [
    "# -------------------------------\n",
    "# Step 5: Prepare Features and Target\n",
    "# -------------------------------\n",
    "y = merged_df['BMI_category']\n",
    "X = merged_df.drop(['BMI_category', 'SEQN'], axis=1)\n",
    "\n",
    "# One-hot encode categorical variables in X\n",
    "X = pd.get_dummies(X)"
   ]
  },
  {
   "cell_type": "code",
   "execution_count": 29,
   "id": "4910d1e1979f9ecf",
   "metadata": {
    "ExecuteTime": {
     "end_time": "2025-03-03T07:24:00.161801Z",
     "start_time": "2025-03-03T07:24:00.010805Z"
    }
   },
   "outputs": [],
   "source": [
    "# -------------------------------\n",
    "# Step 6: Stratified Train-Test Split\n",
    "# -------------------------------\n",
    "X_train, X_test, y_train, y_test = train_test_split(\n",
    "    X, y, test_size=0.2, random_state=42, stratify=y\n",
    ")"
   ]
  },
  {
   "cell_type": "code",
   "execution_count": 30,
   "id": "caee9f8c3aa780bd",
   "metadata": {
    "ExecuteTime": {
     "end_time": "2025-03-03T07:24:02.319047Z",
     "start_time": "2025-03-03T07:24:01.370704Z"
    }
   },
   "outputs": [],
   "source": [
    "# -------------------------------\n",
    "# Step 7: Scaling Features\n",
    "# -------------------------------\n",
    "scaler = StandardScaler()\n",
    "\n",
    "# Scale the training data and transform test data, preserving column names\n",
    "X_train_scaled = pd.DataFrame(scaler.fit_transform(X_train), columns=X_train.columns, index=X_train.index)\n",
    "X_test_scaled = pd.DataFrame(scaler.transform(X_test), columns=X_test.columns, index=X_test.index)"
   ]
  },
  {
   "cell_type": "code",
   "execution_count": 31,
   "id": "1639492f87678db0",
   "metadata": {
    "ExecuteTime": {
     "end_time": "2025-03-03T07:24:06.300950Z",
     "start_time": "2025-03-03T07:24:03.968228Z"
    }
   },
   "outputs": [
    {
     "name": "stdout",
     "output_type": "stream",
     "text": [
      "Training set distribution after SMOTE:\n",
      "BMI_category\n",
      "Overweight         21512\n",
      "Class 1 Obesity    21512\n",
      "Class 2 Obesity    21512\n",
      "Healthy Weight     21512\n",
      "Class 3 Obesity    21512\n",
      "Underweight        21512\n",
      "Name: count, dtype: int64\n",
      "\n",
      "Test set distribution (original composition):\n",
      "BMI_category\n",
      "Overweight         5379\n",
      "Healthy Weight     5042\n",
      "Class 1 Obesity    2941\n",
      "Class 2 Obesity    1297\n",
      "Class 3 Obesity     996\n",
      "Underweight         280\n",
      "Name: count, dtype: int64\n"
     ]
    }
   ],
   "source": [
    "# -------------------------------\n",
    "# Step 8: Apply SMOTE to Balance the Training Data\n",
    "# -------------------------------\n",
    "smote = SMOTE(random_state=42)\n",
    "X_train_res, y_train_res = smote.fit_resample(X_train_scaled, y_train)\n",
    "print(\"Training set distribution after SMOTE:\")\n",
    "print(pd.Series(y_train_res).value_counts())\n",
    "\n",
    "print(\"\\nTest set distribution (original composition):\")\n",
    "print(y_test.value_counts())"
   ]
  },
  {
   "cell_type": "code",
   "execution_count": 32,
   "id": "041b4bc1-aea3-4b31-8e55-85990776adaf",
   "metadata": {
    "ExecuteTime": {
     "end_time": "2025-03-03T08:10:00.707859Z",
     "start_time": "2025-03-03T08:07:52.835664Z"
    }
   },
   "outputs": [
    {
     "name": "stdout",
     "output_type": "stream",
     "text": [
      "Label Mapping: {'Class 1 Obesity': 0, 'Class 2 Obesity': 1, 'Class 3 Obesity': 2, 'Healthy Weight': 3, 'Overweight': 4, 'Underweight': 5}\n"
     ]
    }
   ],
   "source": [
    "# -------------------------------\n",
    "# Step 9: Train XGBoost Model\n",
    "# -------------------------------\n",
    "\n",
    "# Initialize encoder\n",
    "label_encoder = LabelEncoder()\n",
    "\n",
    "# Fit and transform labels\n",
    "y_train_res_encoded = label_encoder.fit_transform(y_train_res)\n",
    "y_test_encoded = label_encoder.transform(y_test)\n",
    "\n",
    "# Check encoding mapping\n",
    "label_mapping = dict(zip(label_encoder.classes_, label_encoder.transform(label_encoder.classes_)))\n",
    "print(\"Label Mapping:\", label_mapping)\n",
    "\n",
    "xgb_model = XGBClassifier(\n",
    "    n_estimators=1000,  # Increase trees\n",
    "    learning_rate=0.05,  # Slow learning rate to prevent overfitting\n",
    "    max_depth=6,  # Increase depth for better feature learning\n",
    "    subsample=0.9,  # Use 90% of data per tree\n",
    "    colsample_bytree=0.9,  # Use 90% of features per tree\n",
    "    reg_alpha=0.1,  # Reduce regularization slightly\n",
    "    reg_lambda=1,  # Reduce L2 regularization\n",
    "    random_state=42\n",
    ")"
   ]
  },
  {
   "cell_type": "code",
   "execution_count": 33,
   "id": "a522abc4-50dc-4172-9c0c-5f2e1f35eb90",
   "metadata": {
    "ExecuteTime": {
     "end_time": "2025-03-03T08:10:00.707859Z",
     "start_time": "2025-03-03T08:07:52.835664Z"
    }
   },
   "outputs": [
    {
     "name": "stdout",
     "output_type": "stream",
     "text": [
      "XGBoost Model Performance:\n",
      "                 precision    recall  f1-score   support\n",
      "\n",
      "Class 1 Obesity       0.97      0.97      0.97      2941\n",
      "Class 2 Obesity       0.99      0.97      0.98      1297\n",
      "Class 3 Obesity       0.98      0.96      0.97       996\n",
      " Healthy Weight       0.98      0.98      0.98      5042\n",
      "     Overweight       0.97      0.98      0.97      5379\n",
      "    Underweight       0.98      0.94      0.96       280\n",
      "\n",
      "       accuracy                           0.98     15935\n",
      "      macro avg       0.98      0.97      0.97     15935\n",
      "   weighted avg       0.98      0.98      0.98     15935\n",
      "\n"
     ]
    }
   ],
   "source": [
    "# Train on resampled data\n",
    "xgb_model.fit(X_train_res, y_train_res_encoded)\n",
    "\n",
    "# Predict on test data\n",
    "y_pred_xgb_encoded = xgb_model.predict(X_test_scaled)\n",
    "\n",
    "# Convert predictions back to original class labels\n",
    "y_pred_xgb = label_encoder.inverse_transform(y_pred_xgb_encoded)\n",
    "\n",
    "# Evaluate performance\n",
    "from sklearn.metrics import classification_report\n",
    "print(\"XGBoost Model Performance:\")\n",
    "print(classification_report(y_test, y_pred_xgb))"
   ]
  },
  {
   "cell_type": "code",
   "execution_count": 34,
   "id": "3a869e896773faa2",
   "metadata": {},
   "outputs": [
    {
     "name": "stdout",
     "output_type": "stream",
     "text": [
      "Training Performance:\n",
      "                 precision    recall  f1-score   support\n",
      "\n",
      "Class 1 Obesity       0.99      0.98      0.99     21512\n",
      "Class 2 Obesity       0.99      1.00      0.99     21512\n",
      "Class 3 Obesity       1.00      1.00      1.00     21512\n",
      " Healthy Weight       0.98      0.99      0.99     21512\n",
      "     Overweight       0.98      0.98      0.98     21512\n",
      "    Underweight       1.00      1.00      1.00     21512\n",
      "\n",
      "       accuracy                           0.99    129072\n",
      "      macro avg       0.99      0.99      0.99    129072\n",
      "   weighted avg       0.99      0.99      0.99    129072\n",
      "\n",
      "Test Performance:\n",
      "                 precision    recall  f1-score   support\n",
      "\n",
      "Class 1 Obesity       0.97      0.97      0.97      2941\n",
      "Class 2 Obesity       0.97      0.96      0.97      1297\n",
      "Class 3 Obesity       0.98      0.97      0.97       996\n",
      " Healthy Weight       0.97      0.98      0.97      5042\n",
      "     Overweight       0.97      0.96      0.97      5379\n",
      "    Underweight       0.98      0.94      0.96       280\n",
      "\n",
      "       accuracy                           0.97     15935\n",
      "      macro avg       0.97      0.96      0.97     15935\n",
      "   weighted avg       0.97      0.97      0.97     15935\n",
      "\n"
     ]
    }
   ],
   "source": [
    "import xgboost as xgb\n",
    "from sklearn.preprocessing import LabelEncoder\n",
    "from sklearn.metrics import classification_report\n",
    "\n",
    "# Encode labels to numeric values\n",
    "le = LabelEncoder()\n",
    "y_train_encoded = le.fit_transform(y_train_res)  # y_train_res from SMOTE-resampled training data\n",
    "y_test_encoded = le.transform(y_test)\n",
    "\n",
    "# Initialize and train XGBoost for multiclass classification\n",
    "xgb_model = xgb.XGBClassifier(objective='multi:softmax', num_class=len(le.classes_), random_state=42)\n",
    "xgb_model.fit(X_train_res, y_train_encoded)\n",
    "\n",
    "# Make predictions on the training and test sets\n",
    "y_pred_train = xgb_model.predict(X_train_res)\n",
    "y_pred_test = xgb_model.predict(X_test_scaled)\n",
    "\n",
    "# Convert numeric predictions back to original string labels\n",
    "y_pred_train_labels = le.inverse_transform(y_pred_train)\n",
    "y_pred_test_labels = le.inverse_transform(y_pred_test)\n",
    "y_train_labels = le.inverse_transform(y_train_encoded)\n",
    "y_test_labels = le.inverse_transform(y_test_encoded)\n",
    "\n",
    "print(\"Training Performance:\")\n",
    "print(classification_report(y_train_labels, y_pred_train_labels))\n",
    "\n",
    "print(\"Test Performance:\")\n",
    "print(classification_report(y_test_labels, y_pred_test_labels))\n"
   ]
  },
  {
   "cell_type": "code",
   "execution_count": 35,
   "id": "07eb17d1-bf62-49fa-ba52-4093eba85f15",
   "metadata": {},
   "outputs": [
    {
     "name": "stdout",
     "output_type": "stream",
     "text": [
      "Top Features Selected: ['BPAOCSZ', 'BPXOPLS3', 'RIDAGEYR', 'WTMEC2YR', 'WTINT2YR', 'BPXODI2', 'BPXODI1', 'PAD680', 'RIAGENDR', 'BPXODI3', 'DR1DBIH', 'BPXOSY2', 'WTDR2D', 'MCQ195']\n"
     ]
    }
   ],
   "source": [
    "from xgboost import XGBClassifier\n",
    "from sklearn.metrics import classification_report\n",
    "from sklearn.inspection import permutation_importance\n",
    "\n",
    "# -------------------------------\n",
    "# Preliminary Model Training for Permutation Importance\n",
    "# -------------------------------\n",
    "# Here we incorporate the additional hyperparameters.\n",
    "prelim_xgb = XGBClassifier(\n",
    "    n_estimators=1000,         \n",
    "    learning_rate=0.05,        \n",
    "    max_depth=5,              # Reduced depth to make trees shallower\n",
    "    subsample=0.9,            \n",
    "    colsample_bytree=0.9,     \n",
    "    gamma=1,                  # Require a minimum loss reduction for splitting\n",
    "    min_child_weight=5,       # Increase minimum child weight to avoid splitting on very few samples\n",
    "    reg_alpha=0.5,            # Increase L1 regularization\n",
    "    reg_lambda=2,             # Increase L2 regularization\n",
    "    objective='multi:softmax',\n",
    "    num_class=len(le.classes_),\n",
    "    random_state=42\n",
    ")\n",
    "\n",
    "# Train the preliminary model on all features (using SMOTE-resampled training data)\n",
    "prelim_xgb.fit(X_train_res, y_train_encoded)\n",
    "\n",
    "# Compute permutation importance on the test set\n",
    "perm_importance = permutation_importance(\n",
    "    prelim_xgb, X_test_scaled, y_test_encoded, \n",
    "    n_repeats=10, random_state=42, scoring='f1_macro'\n",
    ")\n",
    "\n",
    "# Get sorted indices (largest importance first) and select top 10 features\n",
    "sorted_idx = perm_importance.importances_mean.argsort()[::-1]\n",
    "top_features = X_train_scaled.columns[sorted_idx][:14]\n",
    "print(\"Top Features Selected:\", top_features.tolist())\n"
   ]
  },
  {
   "cell_type": "code",
   "execution_count": 36,
   "id": "a5d5a1fd-4f84-4ca3-b722-be87dc9c6f94",
   "metadata": {},
   "outputs": [
    {
     "name": "stdout",
     "output_type": "stream",
     "text": [
      "Final XGBoost Model Performance on Training Set:\n",
      "                 precision    recall  f1-score   support\n",
      "\n",
      "Class 1 Obesity       0.95      0.96      0.96     21512\n",
      "Class 2 Obesity       0.97      0.97      0.97     21512\n",
      "Class 3 Obesity       0.98      0.98      0.98     21512\n",
      " Healthy Weight       0.95      0.97      0.96     21512\n",
      "     Overweight       0.97      0.94      0.95     21512\n",
      "    Underweight       0.99      0.99      0.99     21512\n",
      "\n",
      "       accuracy                           0.97    129072\n",
      "      macro avg       0.97      0.97      0.97    129072\n",
      "   weighted avg       0.97      0.97      0.97    129072\n",
      "\n",
      "Final XGBoost Model Performance on Test Set:\n",
      "                 precision    recall  f1-score   support\n",
      "\n",
      "Class 1 Obesity       0.93      0.96      0.94      2941\n",
      "Class 2 Obesity       0.93      0.96      0.94      1297\n",
      "Class 3 Obesity       0.95      0.97      0.96       996\n",
      " Healthy Weight       0.94      0.97      0.95      5042\n",
      "     Overweight       0.96      0.92      0.94      5379\n",
      "    Underweight       0.90      0.94      0.92       280\n",
      "\n",
      "       accuracy                           0.95     15935\n",
      "      macro avg       0.94      0.95      0.94     15935\n",
      "   weighted avg       0.95      0.95      0.95     15935\n",
      "\n"
     ]
    }
   ],
   "source": [
    "# -------------------------------\n",
    "# Final Model Training Using Selected Features\n",
    "# -------------------------------\n",
    "\n",
    "# Subset the training and test data to include only the top features\n",
    "X_train_top = X_train_res[top_features]\n",
    "X_test_top = X_test_scaled[top_features]\n",
    "\n",
    "# Initialize and train the final XGBoost model with the specified hyperparameters\n",
    "final_xgb = XGBClassifier(\n",
    "    n_estimators=1000,         \n",
    "    learning_rate=0.05,        \n",
    "    max_depth=5,              # Reduced depth to make trees shallower\n",
    "    subsample=0.9,            \n",
    "    colsample_bytree=0.9,     \n",
    "    gamma=1,                  # Require a minimum loss reduction for splitting\n",
    "    min_child_weight=5,       # Increase minimum child weight to avoid splitting on very few samples\n",
    "    reg_alpha=0.5,            # Increase L1 regularization\n",
    "    reg_lambda=2,             # Increase L2 regularization\n",
    "    objective='multi:softmax',\n",
    "    num_class=len(le.classes_),\n",
    "    random_state=42\n",
    ")\n",
    "\n",
    "final_xgb.fit(X_train_top, y_train_encoded)\n",
    "\n",
    "# Make predictions on both the training and test sets\n",
    "y_pred_train_final = final_xgb.predict(X_train_top)\n",
    "y_pred_test_final = final_xgb.predict(X_test_top)\n",
    "\n",
    "# Convert numeric predictions back to original string labels\n",
    "y_pred_train_final_labels = le.inverse_transform(y_pred_train_final)\n",
    "y_pred_test_final_labels = le.inverse_transform(y_pred_test_final)\n",
    "\n",
    "# Evaluate and print the classification reports\n",
    "print(\"Final XGBoost Model Performance on Training Set:\")\n",
    "print(classification_report(y_train_labels, y_pred_train_final_labels))\n",
    "\n",
    "print(\"Final XGBoost Model Performance on Test Set:\")\n",
    "print(classification_report(y_test_labels, y_pred_test_final_labels))"
   ]
  },
  {
   "cell_type": "code",
   "execution_count": 37,
   "id": "9cc24602-02c4-404f-9b76-7feb6dd913fc",
   "metadata": {},
   "outputs": [
    {
     "name": "stderr",
     "output_type": "stream",
     "text": [
      "C:\\Users\\Wen Jun\\AppData\\Local\\Programs\\Python\\Python312\\Lib\\site-packages\\sklearn\\model_selection\\_validation.py:547: FitFailedWarning: \n",
      "6 fits failed out of a total of 50.\n",
      "The score on these train-test partitions for these parameters will be set to nan.\n",
      "If these failures are not expected, you can try to debug them by setting error_score='raise'.\n",
      "\n",
      "Below are more details about the failures:\n",
      "--------------------------------------------------------------------------------\n",
      "3 fits failed with the following error:\n",
      "Traceback (most recent call last):\n",
      "  File \"C:\\Users\\Wen Jun\\AppData\\Local\\Programs\\Python\\Python312\\Lib\\site-packages\\sklearn\\model_selection\\_validation.py\", line 895, in _fit_and_score\n",
      "    estimator.fit(X_train, y_train, **fit_params)\n",
      "  File \"C:\\Users\\Wen Jun\\AppData\\Local\\Programs\\Python\\Python312\\Lib\\site-packages\\xgboost\\core.py\", line 726, in inner_f\n",
      "    return func(**kwargs)\n",
      "           ^^^^^^^^^^^^^^\n",
      "  File \"C:\\Users\\Wen Jun\\AppData\\Local\\Programs\\Python\\Python312\\Lib\\site-packages\\xgboost\\sklearn.py\", line 1491, in fit\n",
      "    raise ValueError(\n",
      "ValueError: Invalid classes inferred from unique values of `y`.  Expected: [0 1 2], got [0 3 4]\n",
      "\n",
      "--------------------------------------------------------------------------------\n",
      "3 fits failed with the following error:\n",
      "Traceback (most recent call last):\n",
      "  File \"C:\\Users\\Wen Jun\\AppData\\Local\\Programs\\Python\\Python312\\Lib\\site-packages\\sklearn\\model_selection\\_validation.py\", line 895, in _fit_and_score\n",
      "    estimator.fit(X_train, y_train, **fit_params)\n",
      "  File \"C:\\Users\\Wen Jun\\AppData\\Local\\Programs\\Python\\Python312\\Lib\\site-packages\\xgboost\\core.py\", line 726, in inner_f\n",
      "    return func(**kwargs)\n",
      "           ^^^^^^^^^^^^^^\n",
      "  File \"C:\\Users\\Wen Jun\\AppData\\Local\\Programs\\Python\\Python312\\Lib\\site-packages\\xgboost\\sklearn.py\", line 1491, in fit\n",
      "    raise ValueError(\n",
      "ValueError: Invalid classes inferred from unique values of `y`.  Expected: [0 1 2 3], got [0 1 3 4]\n",
      "\n",
      "  warnings.warn(some_fits_failed_message, FitFailedWarning)\n"
     ]
    },
    {
     "data": {
      "image/png": "[encoded data removed]",
      "text/plain": [
       "<Figure size 1000x600 with 1 Axes>"
      ]
     },
     "metadata": {},
     "output_type": "display_data"
    }
   ],
   "source": [
    "from sklearn.model_selection import learning_curve\n",
    "import matplotlib.pyplot as plt\n",
    "import numpy as np\n",
    "\n",
    "# Assuming final_xgb is your final XGBoost model and X_train_top are the features selected\n",
    "# using permutation importance and y_train_encoded are your encoded labels.\n",
    "\n",
    "# Compute learning curves using 5-fold cross-validation\n",
    "train_sizes, train_scores, cv_scores = learning_curve(\n",
    "    final_xgb, \n",
    "    X_train_top, \n",
    "    y_train_encoded, \n",
    "    cv=5, \n",
    "    scoring='f1_macro', \n",
    "    n_jobs=-1, \n",
    "    train_sizes=np.linspace(0.1, 1.0, 10)\n",
    ")\n",
    "\n",
    "# Calculate mean scores across folds\n",
    "train_scores_mean = np.mean(train_scores, axis=1)\n",
    "cv_scores_mean = np.mean(cv_scores, axis=1)\n",
    "\n",
    "# Plot the learning curve\n",
    "plt.figure(figsize=(10, 6))\n",
    "plt.plot(train_sizes, train_scores_mean, 'o-', color='blue', label='Training Score')\n",
    "plt.plot(train_sizes, cv_scores_mean, 'o-', color='green', label='Cross-Validation Score')\n",
    "plt.title('Learning Curve for Final XGBoost Model')\n",
    "plt.xlabel('Number of Training Examples')\n",
    "plt.ylabel('F1 Macro Score')\n",
    "plt.legend(loc='best')\n",
    "plt.grid(True)\n",
    "plt.show()\n"
   ]
  },
  {
   "cell_type": "code",
   "execution_count": 38,
   "id": "5187746b-def9-4390-8613-d7ef0bf89ee1",
   "metadata": {},
   "outputs": [
    {
     "name": "stdout",
     "output_type": "stream",
     "text": [
      "Final XGBoost Model Performance on Training Set:\n",
      "                 precision    recall  f1-score   support\n",
      "\n",
      "Class 1 Obesity       0.95      0.94      0.94     21512\n",
      "Class 2 Obesity       0.96      0.95      0.96     21512\n",
      "Class 3 Obesity       0.95      0.97      0.96     21512\n",
      " Healthy Weight       0.95      0.94      0.95     21512\n",
      "     Overweight       0.95      0.95      0.95     21512\n",
      "    Underweight       0.98      0.99      0.98     21512\n",
      "\n",
      "       accuracy                           0.96    129072\n",
      "      macro avg       0.96      0.96      0.96    129072\n",
      "   weighted avg       0.96      0.96      0.96    129072\n",
      "\n",
      "Final XGBoost Model Performance on Test Set:\n",
      "                 precision    recall  f1-score   support\n",
      "\n",
      "Class 1 Obesity       0.95      0.93      0.94      2941\n",
      "Class 2 Obesity       0.94      0.96      0.95      1297\n",
      "Class 3 Obesity       0.93      0.95      0.94       996\n",
      " Healthy Weight       0.94      0.94      0.94      5042\n",
      "     Overweight       0.95      0.94      0.94      5379\n",
      "    Underweight       0.80      0.94      0.87       280\n",
      "\n",
      "       accuracy                           0.94     15935\n",
      "      macro avg       0.92      0.94      0.93     15935\n",
      "   weighted avg       0.94      0.94      0.94     15935\n",
      "\n"
     ]
    }
   ],
   "source": [
    "# -------------------------------\n",
    "# Final Model Training Using Manually Selected Features\n",
    "# -------------------------------\n",
    "\n",
    "# Manually selected features (replace these placeholders with your chosen features)\n",
    "manual_features = [\n",
    "    'RIDAGEYR',\n",
    "    'INDFMPIR',\n",
    "    'WTMEC2YR',\n",
    "    'BPXOPLS3',\n",
    "    'BPXOPLS2',\n",
    "    'BPXOPLS1',\n",
    "    'DR1DBIH',\n",
    "    'WTDRD1',\n",
    "    'BPXOSY2',\n",
    "    'BPXOSY3',\n",
    "    'BPXOSY1',\n",
    "    'DR1ILINE',\n",
    "    'WTDR2D',\n",
    "    'PAD680'\n",
    "]\n",
    "\n",
    "# Subset the training and test data to include only the manually selected features\n",
    "X_train_top = X_train_res[manual_features]\n",
    "X_test_top = X_test_scaled[manual_features]\n",
    "\n",
    "# Initialize and train the final XGBoost model with the specified hyperparameters\n",
    "final_xgb = XGBClassifier(\n",
    "    n_estimators=1000,         \n",
    "    learning_rate=0.05,        \n",
    "    max_depth=5,              # Reduced depth to make trees shallower\n",
    "    subsample=0.9,            \n",
    "    colsample_bytree=0.9,     \n",
    "    gamma=1,                  # Require a minimum loss reduction for splitting\n",
    "    min_child_weight=5,       # Increase minimum child weight to avoid splitting on very few samples\n",
    "    reg_alpha=0.5,            # Increase L1 regularization\n",
    "    reg_lambda=2,             # Increase L2 regularization\n",
    "    objective='multi:softmax',\n",
    "    num_class=len(le.classes_),\n",
    "    random_state=42\n",
    ")\n",
    "\n",
    "final_xgb.fit(X_train_top, y_train_encoded)\n",
    "\n",
    "# Make predictions on both the training and test sets\n",
    "y_pred_train_final = final_xgb.predict(X_train_top)\n",
    "y_pred_test_final = final_xgb.predict(X_test_top)\n",
    "\n",
    "# Convert numeric predictions back to original string labels\n",
    "y_pred_train_final_labels = le.inverse_transform(y_pred_train_final)\n",
    "y_pred_test_final_labels = le.inverse_transform(y_pred_test_final)\n",
    "\n",
    "# Evaluate and print the classification reports\n",
    "print(\"Final XGBoost Model Performance on Training Set:\")\n",
    "print(classification_report(y_train_labels, y_pred_train_final_labels))\n",
    "\n",
    "print(\"Final XGBoost Model Performance on Test Set:\")\n",
    "print(classification_report(y_test_labels, y_pred_test_final_labels))\n"
   ]
  },
  {
   "cell_type": "code",
   "execution_count": null,
   "id": "ababfe97-8705-4058-a3b5-477e4bf08e6e",
   "metadata": {},
   "outputs": [],
   "source": []
  }
 ],
 "metadata": {
  "kernelspec": {
   "display_name": "Python 3 (ipykernel)",
   "language": "python",
   "name": "python3"
  },
  "language_info": {
   "codemirror_mode": {
    "name": "ipython",
    "version": 3
   },
   "file_extension": ".py",
   "mimetype": "text/x-python",
   "name": "python",
   "nbconvert_exporter": "python",
   "pygments_lexer": "ipython3",
   "version": "3.12.4"
  }
 },
 "nbformat": 4,
 "nbformat_minor": 5
}
