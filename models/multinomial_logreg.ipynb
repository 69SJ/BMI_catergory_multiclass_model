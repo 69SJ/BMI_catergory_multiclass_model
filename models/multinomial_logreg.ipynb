{
 "cells": [
  {
   "cell_type": "code",
   "execution_count": 1,
   "id": "ftnZPeGGEhT6",
   "metadata": {
    "id": "ftnZPeGGEhT6"
   },
   "outputs": [],
   "source": [
    "import numpy as np\n",
    "import pandas as pd\n",
    "from functools import reduce\n",
    "from sklearn.model_selection import train_test_split\n",
    "from sklearn.linear_model import LogisticRegression\n",
    "from sklearn.model_selection import RandomizedSearchCV\n",
    "from sklearn.model_selection import ParameterGrid, cross_val_score\n",
    "from sklearn.inspection import permutation_importance\n",
    "from sklearn.feature_selection import RFE\n",
    "from sklearn.base import clone\n",
    "from sklearn.metrics import classification_report\n",
    "from sklearn.metrics import accuracy_score\n",
    "from sklearn.preprocessing import StandardScaler\n",
    "from imblearn.over_sampling import SMOTE\n",
    "from xgboost import XGBClassifier\n",
    "from sklearn.preprocessing import LabelEncoder\n",
    "import matplotlib.pyplot as plt\n",
    "import time\n"
   ]
  },
  {
   "cell_type": "code",
   "execution_count": 2,
   "id": "a3283e3c-cffb-402b-9b57-96d68dc35935",
   "metadata": {
    "colab": {
     "base_uri": "https://localhost:8080/"
    },
    "id": "a3283e3c-cffb-402b-9b57-96d68dc35935",
    "outputId": "5e334800-ea07-4f5d-ef39-5424e7d8d22a"
   },
   "outputs": [
    {
     "name": "stdout",
     "output_type": "stream",
     "text": [
      "First few rows of cleaned WHQ_df:\n",
      "       SEQN     BMI_category\n",
      "0  130378.0       Overweight\n",
      "1  130379.0  Class 1 Obesity\n",
      "2  130380.0       Overweight\n",
      "3  130384.0  Class 1 Obesity\n",
      "4  130385.0  Class 1 Obesity\n"
     ]
    }
   ],
   "source": [
    "# -------------------------------\n",
    "# Step 1: Load and Clean WHQ_df (with BMI Calculation)\n",
    "# -------------------------------\n",
    "WHQ_df = pd.read_csv('WHQ_L.csv')\n",
    "\n",
    "# Replace the placeholder values (7777, 9999, and blanks) with NaN\n",
    "WHQ_df.replace({7777: np.nan, 9999: np.nan}, inplace=True)\n",
    "WHQ_df.replace(r'^\\s*$', np.nan, regex=True, inplace=True)\n",
    "WHQ_df.dropna(inplace=True)\n",
    "\n",
    "# Calculate BMI using the formula: BMI = (weight in lbs / (height in inches)^2) * 703\n",
    "WHQ_df['BMI'] = (WHQ_df['WHD020'] / (WHQ_df['WHD010'] ** 2)) * 703\n",
    "\n",
    "# Define a function to classify BMI\n",
    "def classify_bmi(bmi):\n",
    "    if bmi < 18.5:\n",
    "        return 'Underweight'\n",
    "    elif bmi < 25:\n",
    "        return 'Healthy Weight'\n",
    "    elif bmi < 30:\n",
    "        return 'Overweight'\n",
    "    elif bmi < 35:\n",
    "        return 'Class 1 Obesity'\n",
    "    elif bmi < 40:\n",
    "        return 'Class 2 Obesity'\n",
    "    else:\n",
    "        return 'Class 3 Obesity'\n",
    "\n",
    "# Apply the classification to create a new column\n",
    "WHQ_df['BMI_category'] = WHQ_df['BMI'].apply(classify_bmi)\n",
    "\n",
    "WHQ_df.drop(['WHD010', 'WHD020', 'WHD050', 'WHQ070', 'BMI'], axis=1, inplace=True)\n",
    "\n",
    "print(\"First few rows of cleaned WHQ_df:\")\n",
    "print(WHQ_df.head())\n"
   ]
  },
  {
   "cell_type": "code",
   "execution_count": 3,
   "id": "74b134c6-0eb8-4157-b5d1-977b1fd5fdd0",
   "metadata": {
    "id": "74b134c6-0eb8-4157-b5d1-977b1fd5fdd0"
   },
   "outputs": [],
   "source": [
    "# -------------------------------\n",
    "# Step 2: Load the Other DataFrames\n",
    "# -------------------------------\n",
    "ALQ_df    = pd.read_csv('ALQ_L.csv')\n",
    "BAX_df    = pd.read_csv('BAX_L.csv')\n",
    "#BMX_df    = pd.read_csv('BMX_L.csv')\n",
    "BPQ_df    = pd.read_csv('BPQ_L.csv')\n",
    "BPXO_df   = pd.read_csv('BPXO_L.csv')\n",
    "DBQ_df    = pd.read_csv('DBQ_L.csv')\n",
    "DEMO_df   = pd.read_csv('DEMO_L.csv')\n",
    "DR1IFF_df = pd.read_csv('DR1IFF_L.csv')\n",
    "MCQ_df    = pd.read_csv('MCQ_L.csv')\n",
    "PAQ_df    = pd.read_csv('PAQ_L.csv')\n",
    "# Note: WHQ_df is already loaded and processed above.\n"
   ]
  },
  {
   "cell_type": "code",
   "execution_count": 4,
   "id": "27541aae-5e88-4d97-ad37-f8843cb40330",
   "metadata": {
    "colab": {
     "base_uri": "https://localhost:8080/"
    },
    "id": "27541aae-5e88-4d97-ad37-f8843cb40330",
    "outputId": "4824d025-5aa4-45c7-edd8-f246e293acdb"
   },
   "outputs": [
    {
     "name": "stdout",
     "output_type": "stream",
     "text": [
      "Columns in merged_df:\n",
      "Index(['SEQN', 'ALQ111', 'ALQ121', 'ALQ130', 'ALQ142', 'ALQ270', 'ALQ280',\n",
      "       'ALQ151', 'ALQ170', 'BAXMSTAT',\n",
      "       ...\n",
      "       'MCQ230D', 'OSQ230', 'PAD790Q', 'PAD790U', 'PAD800', 'PAD810Q',\n",
      "       'PAD810U', 'PAD820', 'PAD680', 'BMI_category'],\n",
      "      dtype='object', length=246)\n"
     ]
    }
   ],
   "source": [
    "# -------------------------------\n",
    "# Step 3: Merge All DataFrames on 'SEQN'\n",
    "# -------------------------------\n",
    "dfs = [ALQ_df, BAX_df, BPQ_df, BPXO_df, DBQ_df, DEMO_df, DR1IFF_df, MCQ_df, PAQ_df, WHQ_df]\n",
    "merged_df = reduce(lambda left, right: pd.merge(left, right, on='SEQN', how='outer'), dfs)\n",
    "\n",
    "print(\"Columns in merged_df:\")\n",
    "print(merged_df.columns)"
   ]
  },
  {
   "cell_type": "code",
   "execution_count": 5,
   "id": "2b030c6f-f597-49d0-adbe-85804a7c494b",
   "metadata": {
    "id": "2b030c6f-f597-49d0-adbe-85804a7c494b"
   },
   "outputs": [],
   "source": [
    "# -------------------------------\n",
    "# Step 4: Clean Merged Data\n",
    "# -------------------------------\n",
    "# Drop rows missing the target 'BMI_category'\n",
    "merged_df.dropna(subset=['BMI_category'], inplace=True)\n",
    "\n",
    "# Fill missing values with 0 for all remaining columns\n",
    "merged_df.fillna(0, inplace=True)\n",
    "\n"
   ]
  },
  {
   "cell_type": "code",
   "execution_count": 6,
   "id": "82b10139-9dc8-4fef-9ae7-831c35ec1497",
   "metadata": {
    "id": "82b10139-9dc8-4fef-9ae7-831c35ec1497"
   },
   "outputs": [],
   "source": [
    "# -------------------------------\n",
    "# Step 5: Prepare Features and Target\n",
    "# -------------------------------\n",
    "y = merged_df['BMI_category']\n",
    "X = merged_df.drop(['BMI_category', 'SEQN'], axis=1)\n",
    "\n",
    "# One-hot encode categorical variables in X\n",
    "X = pd.get_dummies(X)"
   ]
  },
  {
   "cell_type": "code",
   "execution_count": 7,
   "id": "703de160-fac2-48ab-b798-a81dd8a8c303",
   "metadata": {
    "id": "703de160-fac2-48ab-b798-a81dd8a8c303"
   },
   "outputs": [],
   "source": [
    "# -------------------------------\n",
    "# Step 6: Stratified Train-Test Split\n",
    "# -------------------------------\n",
    "X_train, X_test, y_train, y_test = train_test_split(\n",
    "    X, y, test_size=0.2, random_state=42, stratify=y\n",
    ")"
   ]
  },
  {
   "cell_type": "code",
   "execution_count": 8,
   "id": "54c47bea-c80a-4935-99fb-fef7c5b0f8ca",
   "metadata": {
    "id": "54c47bea-c80a-4935-99fb-fef7c5b0f8ca"
   },
   "outputs": [],
   "source": [
    "# -------------------------------\n",
    "# Step 7: Scaling Features\n",
    "# -------------------------------\n",
    "scaler = StandardScaler()\n",
    "\n",
    "# Scale the training data and transform test data, preserving column names\n",
    "X_train_scaled = pd.DataFrame(scaler.fit_transform(X_train), columns=X_train.columns, index=X_train.index)\n",
    "X_test_scaled = pd.DataFrame(scaler.transform(X_test), columns=X_test.columns, index=X_test.index)"
   ]
  },
  {
   "cell_type": "code",
   "execution_count": 9,
   "id": "26605136-3819-411f-b04b-813cebdc7d49",
   "metadata": {
    "colab": {
     "base_uri": "https://localhost:8080/"
    },
    "id": "26605136-3819-411f-b04b-813cebdc7d49",
    "outputId": "6caf6281-e5e3-40b8-e3f8-5ba6160f8d0a"
   },
   "outputs": [
    {
     "name": "stdout",
     "output_type": "stream",
     "text": [
      "Training set distribution after SMOTE:\n",
      "BMI_category\n",
      "Overweight         21512\n",
      "Class 1 Obesity    21512\n",
      "Class 2 Obesity    21512\n",
      "Healthy Weight     21512\n",
      "Class 3 Obesity    21512\n",
      "Underweight        21512\n",
      "Name: count, dtype: int64\n",
      "\n",
      "Test set distribution (original composition):\n",
      "BMI_category\n",
      "Overweight         5379\n",
      "Healthy Weight     5042\n",
      "Class 1 Obesity    2941\n",
      "Class 2 Obesity    1297\n",
      "Class 3 Obesity     996\n",
      "Underweight         280\n",
      "Name: count, dtype: int64\n"
     ]
    }
   ],
   "source": [
    "# -------------------------------\n",
    "# Step 8: Apply SMOTE to Balance the Training Data\n",
    "# -------------------------------\n",
    "smote = SMOTE(random_state=42)\n",
    "X_train_res, y_train_res = smote.fit_resample(X_train_scaled, y_train)\n",
    "print(\"Training set distribution after SMOTE:\")\n",
    "print(pd.Series(y_train_res).value_counts())\n",
    "\n",
    "print(\"\\nTest set distribution (original composition):\")\n",
    "print(y_test.value_counts())"
   ]
  },
  {
   "cell_type": "code",
   "execution_count": 10,
   "id": "ce4a795c",
   "metadata": {
    "colab": {
     "base_uri": "https://localhost:8080/"
    },
    "id": "ce4a795c",
    "outputId": "f27afce7-2b61-476b-c732-5b07acc2c78c"
   },
   "outputs": [
    {
     "name": "stderr",
     "output_type": "stream",
     "text": [
      "C:\\Users\\ambro\\AppData\\Local\\Programs\\Python\\Python312\\Lib\\site-packages\\sklearn\\linear_model\\_logistic.py:1247: FutureWarning: 'multi_class' was deprecated in version 1.5 and will be removed in 1.7. From then on, it will always use 'multinomial'. Leave it to its default value to avoid this warning.\n",
      "  warnings.warn(\n"
     ]
    },
    {
     "name": "stdout",
     "output_type": "stream",
     "text": [
      "Multinomial Logistic Regression Model Accuracy: 0.4822717288986508\n",
      "Classification Report:\n",
      "                  precision    recall  f1-score   support\n",
      "\n",
      "Class 1 Obesity       0.42      0.42      0.42      2941\n",
      "Class 2 Obesity       0.30      0.49      0.37      1297\n",
      "Class 3 Obesity       0.44      0.70      0.54       996\n",
      " Healthy Weight       0.69      0.63      0.66      5042\n",
      "     Overweight       0.56      0.32      0.40      5379\n",
      "    Underweight       0.15      0.82      0.25       280\n",
      "\n",
      "       accuracy                           0.48     15935\n",
      "      macro avg       0.42      0.56      0.44     15935\n",
      "   weighted avg       0.54      0.48      0.49     15935\n",
      "\n"
     ]
    }
   ],
   "source": [
    "# -------------------------------\n",
    "# Step 9: Multinomial Logistic Regression Model (using resampled training data)\n",
    "# -------------------------------\n",
    "\n",
    "# Initialize the multinomial logistic regression model.\n",
    "log_reg = LogisticRegression(multi_class='multinomial', solver='lbfgs', max_iter=1000, random_state=42)\n",
    "\n",
    "# Fit the model on the training data\n",
    "log_reg.fit(X_train_res, y_train_res)\n",
    "\n",
    "# Make predictions on the test data\n",
    "y_pred_log_reg = log_reg.predict(X_test_scaled)\n",
    "\n",
    "# Evaluate the model's performance\n",
    "accuracy = accuracy_score(y_test, y_pred_log_reg)\n",
    "report = classification_report(y_test, y_pred_log_reg)\n",
    "\n",
    "print(\"Multinomial Logistic Regression Model Accuracy:\", accuracy)\n",
    "print(\"Classification Report:\\n\", report)"
   ]
  },
  {
   "cell_type": "code",
   "execution_count": 11,
   "id": "ed34a4a2-7eec-4604-bef9-a264de7988e6",
   "metadata": {},
   "outputs": [
    {
     "name": "stderr",
     "output_type": "stream",
     "text": [
      "C:\\Users\\ambro\\AppData\\Local\\Programs\\Python\\Python312\\Lib\\site-packages\\sklearn\\linear_model\\_logistic.py:1247: FutureWarning: 'multi_class' was deprecated in version 1.5 and will be removed in 1.7. From then on, it will always use 'multinomial'. Leave it to its default value to avoid this warning.\n",
      "  warnings.warn(\n"
     ]
    },
    {
     "name": "stdout",
     "output_type": "stream",
     "text": [
      "Iteration 1: Removed features indices [78, 75, 76, 77, 67]. Remaining features: 252\n"
     ]
    },
    {
     "name": "stderr",
     "output_type": "stream",
     "text": [
      "C:\\Users\\ambro\\AppData\\Local\\Programs\\Python\\Python312\\Lib\\site-packages\\sklearn\\linear_model\\_logistic.py:1247: FutureWarning: 'multi_class' was deprecated in version 1.5 and will be removed in 1.7. From then on, it will always use 'multinomial'. Leave it to its default value to avoid this warning.\n",
      "  warnings.warn(\n"
     ]
    },
    {
     "name": "stdout",
     "output_type": "stream",
     "text": [
      "Iteration 2: Removed features indices [97, 74, 73, 72, 69]. Remaining features: 247\n"
     ]
    },
    {
     "name": "stderr",
     "output_type": "stream",
     "text": [
      "C:\\Users\\ambro\\AppData\\Local\\Programs\\Python\\Python312\\Lib\\site-packages\\sklearn\\linear_model\\_logistic.py:1247: FutureWarning: 'multi_class' was deprecated in version 1.5 and will be removed in 1.7. From then on, it will always use 'multinomial'. Leave it to its default value to avoid this warning.\n",
      "  warnings.warn(\n"
     ]
    },
    {
     "name": "stdout",
     "output_type": "stream",
     "text": [
      "Iteration 3: Removed features indices [93, 71, 70, 68, 208]. Remaining features: 242\n"
     ]
    },
    {
     "name": "stderr",
     "output_type": "stream",
     "text": [
      "C:\\Users\\ambro\\AppData\\Local\\Programs\\Python\\Python312\\Lib\\site-packages\\sklearn\\linear_model\\_logistic.py:1247: FutureWarning: 'multi_class' was deprecated in version 1.5 and will be removed in 1.7. From then on, it will always use 'multinomial'. Leave it to its default value to avoid this warning.\n",
      "  warnings.warn(\n"
     ]
    },
    {
     "name": "stdout",
     "output_type": "stream",
     "text": [
      "Iteration 4: Removed features indices [129, 167, 179, 151, 172]. Remaining features: 237\n"
     ]
    },
    {
     "name": "stderr",
     "output_type": "stream",
     "text": [
      "C:\\Users\\ambro\\AppData\\Local\\Programs\\Python\\Python312\\Lib\\site-packages\\sklearn\\linear_model\\_logistic.py:1247: FutureWarning: 'multi_class' was deprecated in version 1.5 and will be removed in 1.7. From then on, it will always use 'multinomial'. Leave it to its default value to avoid this warning.\n",
      "  warnings.warn(\n"
     ]
    },
    {
     "name": "stdout",
     "output_type": "stream",
     "text": [
      "Iteration 5: Removed features indices [197, 133, 146, 135, 180]. Remaining features: 232\n"
     ]
    },
    {
     "name": "stderr",
     "output_type": "stream",
     "text": [
      "C:\\Users\\ambro\\AppData\\Local\\Programs\\Python\\Python312\\Lib\\site-packages\\sklearn\\linear_model\\_logistic.py:1247: FutureWarning: 'multi_class' was deprecated in version 1.5 and will be removed in 1.7. From then on, it will always use 'multinomial'. Leave it to its default value to avoid this warning.\n",
      "  warnings.warn(\n"
     ]
    },
    {
     "name": "stdout",
     "output_type": "stream",
     "text": [
      "Iteration 6: Removed features indices [140, 157, 154, 182, 90]. Remaining features: 227\n"
     ]
    },
    {
     "name": "stderr",
     "output_type": "stream",
     "text": [
      "C:\\Users\\ambro\\AppData\\Local\\Programs\\Python\\Python312\\Lib\\site-packages\\sklearn\\linear_model\\_logistic.py:1247: FutureWarning: 'multi_class' was deprecated in version 1.5 and will be removed in 1.7. From then on, it will always use 'multinomial'. Leave it to its default value to avoid this warning.\n",
      "  warnings.warn(\n"
     ]
    },
    {
     "name": "stdout",
     "output_type": "stream",
     "text": [
      "Iteration 7: Removed features indices [178, 173, 158, 89, 153]. Remaining features: 222\n"
     ]
    },
    {
     "name": "stderr",
     "output_type": "stream",
     "text": [
      "C:\\Users\\ambro\\AppData\\Local\\Programs\\Python\\Python312\\Lib\\site-packages\\sklearn\\linear_model\\_logistic.py:1247: FutureWarning: 'multi_class' was deprecated in version 1.5 and will be removed in 1.7. From then on, it will always use 'multinomial'. Leave it to its default value to avoid this warning.\n",
      "  warnings.warn(\n"
     ]
    },
    {
     "name": "stdout",
     "output_type": "stream",
     "text": [
      "Iteration 8: Removed features indices [155, 148, 169, 107, 181]. Remaining features: 217\n"
     ]
    },
    {
     "name": "stderr",
     "output_type": "stream",
     "text": [
      "C:\\Users\\ambro\\AppData\\Local\\Programs\\Python\\Python312\\Lib\\site-packages\\sklearn\\linear_model\\_logistic.py:1247: FutureWarning: 'multi_class' was deprecated in version 1.5 and will be removed in 1.7. From then on, it will always use 'multinomial'. Leave it to its default value to avoid this warning.\n",
      "  warnings.warn(\n"
     ]
    },
    {
     "name": "stdout",
     "output_type": "stream",
     "text": [
      "Iteration 9: Removed features indices [248, 212, 138, 249, 130]. Remaining features: 212\n"
     ]
    },
    {
     "name": "stderr",
     "output_type": "stream",
     "text": [
      "C:\\Users\\ambro\\AppData\\Local\\Programs\\Python\\Python312\\Lib\\site-packages\\sklearn\\linear_model\\_logistic.py:1247: FutureWarning: 'multi_class' was deprecated in version 1.5 and will be removed in 1.7. From then on, it will always use 'multinomial'. Leave it to its default value to avoid this warning.\n",
      "  warnings.warn(\n"
     ]
    },
    {
     "name": "stdout",
     "output_type": "stream",
     "text": [
      "Iteration 10: Removed features indices [156, 136, 207, 198, 187]. Remaining features: 207\n"
     ]
    },
    {
     "name": "stderr",
     "output_type": "stream",
     "text": [
      "C:\\Users\\ambro\\AppData\\Local\\Programs\\Python\\Python312\\Lib\\site-packages\\sklearn\\linear_model\\_logistic.py:1247: FutureWarning: 'multi_class' was deprecated in version 1.5 and will be removed in 1.7. From then on, it will always use 'multinomial'. Leave it to its default value to avoid this warning.\n",
      "  warnings.warn(\n"
     ]
    },
    {
     "name": "stdout",
     "output_type": "stream",
     "text": [
      "Iteration 11: Removed features indices [196, 193, 168, 236, 141]. Remaining features: 202\n"
     ]
    },
    {
     "name": "stderr",
     "output_type": "stream",
     "text": [
      "C:\\Users\\ambro\\AppData\\Local\\Programs\\Python\\Python312\\Lib\\site-packages\\sklearn\\linear_model\\_logistic.py:1247: FutureWarning: 'multi_class' was deprecated in version 1.5 and will be removed in 1.7. From then on, it will always use 'multinomial'. Leave it to its default value to avoid this warning.\n",
      "  warnings.warn(\n"
     ]
    },
    {
     "name": "stdout",
     "output_type": "stream",
     "text": [
      "Iteration 12: Removed features indices [183, 254, 124, 122, 174]. Remaining features: 197\n"
     ]
    },
    {
     "name": "stderr",
     "output_type": "stream",
     "text": [
      "C:\\Users\\ambro\\AppData\\Local\\Programs\\Python\\Python312\\Lib\\site-packages\\sklearn\\linear_model\\_logistic.py:1247: FutureWarning: 'multi_class' was deprecated in version 1.5 and will be removed in 1.7. From then on, it will always use 'multinomial'. Leave it to its default value to avoid this warning.\n",
      "  warnings.warn(\n"
     ]
    },
    {
     "name": "stdout",
     "output_type": "stream",
     "text": [
      "Iteration 13: Removed features indices [128, 177, 132, 166, 225]. Remaining features: 192\n"
     ]
    },
    {
     "name": "stderr",
     "output_type": "stream",
     "text": [
      "C:\\Users\\ambro\\AppData\\Local\\Programs\\Python\\Python312\\Lib\\site-packages\\sklearn\\linear_model\\_logistic.py:1247: FutureWarning: 'multi_class' was deprecated in version 1.5 and will be removed in 1.7. From then on, it will always use 'multinomial'. Leave it to its default value to avoid this warning.\n",
      "  warnings.warn(\n"
     ]
    },
    {
     "name": "stdout",
     "output_type": "stream",
     "text": [
      "Iteration 14: Removed features indices [147, 213, 234, 102, 117]. Remaining features: 187\n"
     ]
    },
    {
     "name": "stderr",
     "output_type": "stream",
     "text": [
      "C:\\Users\\ambro\\AppData\\Local\\Programs\\Python\\Python312\\Lib\\site-packages\\sklearn\\linear_model\\_logistic.py:1247: FutureWarning: 'multi_class' was deprecated in version 1.5 and will be removed in 1.7. From then on, it will always use 'multinomial'. Leave it to its default value to avoid this warning.\n",
      "  warnings.warn(\n"
     ]
    },
    {
     "name": "stdout",
     "output_type": "stream",
     "text": [
      "Iteration 15: Removed features indices [186, 91, 126, 240, 45]. Remaining features: 182\n"
     ]
    },
    {
     "name": "stderr",
     "output_type": "stream",
     "text": [
      "C:\\Users\\ambro\\AppData\\Local\\Programs\\Python\\Python312\\Lib\\site-packages\\sklearn\\linear_model\\_logistic.py:1247: FutureWarning: 'multi_class' was deprecated in version 1.5 and will be removed in 1.7. From then on, it will always use 'multinomial'. Leave it to its default value to avoid this warning.\n",
      "  warnings.warn(\n"
     ]
    },
    {
     "name": "stdout",
     "output_type": "stream",
     "text": [
      "Iteration 16: Removed features indices [184, 185, 220, 170, 5]. Remaining features: 177\n"
     ]
    },
    {
     "name": "stderr",
     "output_type": "stream",
     "text": [
      "C:\\Users\\ambro\\AppData\\Local\\Programs\\Python\\Python312\\Lib\\site-packages\\sklearn\\linear_model\\_logistic.py:1247: FutureWarning: 'multi_class' was deprecated in version 1.5 and will be removed in 1.7. From then on, it will always use 'multinomial'. Leave it to its default value to avoid this warning.\n",
      "  warnings.warn(\n"
     ]
    },
    {
     "name": "stdout",
     "output_type": "stream",
     "text": [
      "Iteration 17: Removed features indices [188, 190, 171, 191, 159]. Remaining features: 172\n"
     ]
    },
    {
     "name": "stderr",
     "output_type": "stream",
     "text": [
      "C:\\Users\\ambro\\AppData\\Local\\Programs\\Python\\Python312\\Lib\\site-packages\\sklearn\\linear_model\\_logistic.py:1247: FutureWarning: 'multi_class' was deprecated in version 1.5 and will be removed in 1.7. From then on, it will always use 'multinomial'. Leave it to its default value to avoid this warning.\n",
      "  warnings.warn(\n"
     ]
    },
    {
     "name": "stdout",
     "output_type": "stream",
     "text": [
      "Iteration 18: Removed features indices [165, 201, 143, 164, 176]. Remaining features: 167\n"
     ]
    },
    {
     "name": "stderr",
     "output_type": "stream",
     "text": [
      "C:\\Users\\ambro\\AppData\\Local\\Programs\\Python\\Python312\\Lib\\site-packages\\sklearn\\linear_model\\_logistic.py:1247: FutureWarning: 'multi_class' was deprecated in version 1.5 and will be removed in 1.7. From then on, it will always use 'multinomial'. Leave it to its default value to avoid this warning.\n",
      "  warnings.warn(\n"
     ]
    },
    {
     "name": "stdout",
     "output_type": "stream",
     "text": [
      "Iteration 19: Removed features indices [139, 175, 4, 3, 127]. Remaining features: 162\n"
     ]
    },
    {
     "name": "stderr",
     "output_type": "stream",
     "text": [
      "C:\\Users\\ambro\\AppData\\Local\\Programs\\Python\\Python312\\Lib\\site-packages\\sklearn\\linear_model\\_logistic.py:1247: FutureWarning: 'multi_class' was deprecated in version 1.5 and will be removed in 1.7. From then on, it will always use 'multinomial'. Leave it to its default value to avoid this warning.\n",
      "  warnings.warn(\n"
     ]
    },
    {
     "name": "stdout",
     "output_type": "stream",
     "text": [
      "Iteration 20: Removed features indices [137, 106, 30, 252, 39]. Remaining features: 157\n"
     ]
    },
    {
     "name": "stderr",
     "output_type": "stream",
     "text": [
      "C:\\Users\\ambro\\AppData\\Local\\Programs\\Python\\Python312\\Lib\\site-packages\\sklearn\\linear_model\\_logistic.py:1247: FutureWarning: 'multi_class' was deprecated in version 1.5 and will be removed in 1.7. From then on, it will always use 'multinomial'. Leave it to its default value to avoid this warning.\n",
      "  warnings.warn(\n"
     ]
    },
    {
     "name": "stdout",
     "output_type": "stream",
     "text": [
      "Iteration 21: Removed features indices [256, 245, 251, 92, 101]. Remaining features: 152\n"
     ]
    },
    {
     "name": "stderr",
     "output_type": "stream",
     "text": [
      "C:\\Users\\ambro\\AppData\\Local\\Programs\\Python\\Python312\\Lib\\site-packages\\sklearn\\linear_model\\_logistic.py:1247: FutureWarning: 'multi_class' was deprecated in version 1.5 and will be removed in 1.7. From then on, it will always use 'multinomial'. Leave it to its default value to avoid this warning.\n",
      "  warnings.warn(\n"
     ]
    },
    {
     "name": "stdout",
     "output_type": "stream",
     "text": [
      "Iteration 22: Removed features indices [0, 228, 48, 123, 51]. Remaining features: 147\n"
     ]
    },
    {
     "name": "stderr",
     "output_type": "stream",
     "text": [
      "C:\\Users\\ambro\\AppData\\Local\\Programs\\Python\\Python312\\Lib\\site-packages\\sklearn\\linear_model\\_logistic.py:1247: FutureWarning: 'multi_class' was deprecated in version 1.5 and will be removed in 1.7. From then on, it will always use 'multinomial'. Leave it to its default value to avoid this warning.\n",
      "  warnings.warn(\n"
     ]
    },
    {
     "name": "stdout",
     "output_type": "stream",
     "text": [
      "Iteration 23: Removed features indices [125, 206, 163, 118, 50]. Remaining features: 142\n"
     ]
    },
    {
     "name": "stderr",
     "output_type": "stream",
     "text": [
      "C:\\Users\\ambro\\AppData\\Local\\Programs\\Python\\Python312\\Lib\\site-packages\\sklearn\\linear_model\\_logistic.py:1247: FutureWarning: 'multi_class' was deprecated in version 1.5 and will be removed in 1.7. From then on, it will always use 'multinomial'. Leave it to its default value to avoid this warning.\n",
      "  warnings.warn(\n"
     ]
    },
    {
     "name": "stdout",
     "output_type": "stream",
     "text": [
      "Iteration 24: Removed features indices [49, 194, 227, 131, 250]. Remaining features: 137\n"
     ]
    },
    {
     "name": "stderr",
     "output_type": "stream",
     "text": [
      "C:\\Users\\ambro\\AppData\\Local\\Programs\\Python\\Python312\\Lib\\site-packages\\sklearn\\linear_model\\_logistic.py:1247: FutureWarning: 'multi_class' was deprecated in version 1.5 and will be removed in 1.7. From then on, it will always use 'multinomial'. Leave it to its default value to avoid this warning.\n",
      "  warnings.warn(\n"
     ]
    },
    {
     "name": "stdout",
     "output_type": "stream",
     "text": [
      "Iteration 25: Removed features indices [121, 200, 199, 232, 56]. Remaining features: 132\n"
     ]
    },
    {
     "name": "stderr",
     "output_type": "stream",
     "text": [
      "C:\\Users\\ambro\\AppData\\Local\\Programs\\Python\\Python312\\Lib\\site-packages\\sklearn\\linear_model\\_logistic.py:1247: FutureWarning: 'multi_class' was deprecated in version 1.5 and will be removed in 1.7. From then on, it will always use 'multinomial'. Leave it to its default value to avoid this warning.\n",
      "  warnings.warn(\n"
     ]
    },
    {
     "name": "stdout",
     "output_type": "stream",
     "text": [
      "Iteration 26: Removed features indices [247, 253, 32, 120, 246]. Remaining features: 127\n"
     ]
    },
    {
     "name": "stderr",
     "output_type": "stream",
     "text": [
      "C:\\Users\\ambro\\AppData\\Local\\Programs\\Python\\Python312\\Lib\\site-packages\\sklearn\\linear_model\\_logistic.py:1247: FutureWarning: 'multi_class' was deprecated in version 1.5 and will be removed in 1.7. From then on, it will always use 'multinomial'. Leave it to its default value to avoid this warning.\n",
      "  warnings.warn(\n"
     ]
    },
    {
     "name": "stdout",
     "output_type": "stream",
     "text": [
      "Iteration 27: Removed features indices [119, 34, 238, 210, 219]. Remaining features: 122\n"
     ]
    },
    {
     "name": "stderr",
     "output_type": "stream",
     "text": [
      "C:\\Users\\ambro\\AppData\\Local\\Programs\\Python\\Python312\\Lib\\site-packages\\sklearn\\linear_model\\_logistic.py:1247: FutureWarning: 'multi_class' was deprecated in version 1.5 and will be removed in 1.7. From then on, it will always use 'multinomial'. Leave it to its default value to avoid this warning.\n",
      "  warnings.warn(\n"
     ]
    },
    {
     "name": "stdout",
     "output_type": "stream",
     "text": [
      "Iteration 28: Removed features indices [62, 211, 24, 9, 113]. Remaining features: 117\n"
     ]
    },
    {
     "name": "stderr",
     "output_type": "stream",
     "text": [
      "C:\\Users\\ambro\\AppData\\Local\\Programs\\Python\\Python312\\Lib\\site-packages\\sklearn\\linear_model\\_logistic.py:1247: FutureWarning: 'multi_class' was deprecated in version 1.5 and will be removed in 1.7. From then on, it will always use 'multinomial'. Leave it to its default value to avoid this warning.\n",
      "  warnings.warn(\n"
     ]
    },
    {
     "name": "stdout",
     "output_type": "stream",
     "text": [
      "Iteration 29: Removed features indices [152, 203, 100, 134, 116]. Remaining features: 112\n"
     ]
    },
    {
     "name": "stderr",
     "output_type": "stream",
     "text": [
      "C:\\Users\\ambro\\AppData\\Local\\Programs\\Python\\Python312\\Lib\\site-packages\\sklearn\\linear_model\\_logistic.py:1247: FutureWarning: 'multi_class' was deprecated in version 1.5 and will be removed in 1.7. From then on, it will always use 'multinomial'. Leave it to its default value to avoid this warning.\n",
      "  warnings.warn(\n"
     ]
    },
    {
     "name": "stdout",
     "output_type": "stream",
     "text": [
      "Iteration 30: Removed features indices [150, 149, 202, 214, 47]. Remaining features: 107\n"
     ]
    },
    {
     "name": "stderr",
     "output_type": "stream",
     "text": [
      "C:\\Users\\ambro\\AppData\\Local\\Programs\\Python\\Python312\\Lib\\site-packages\\sklearn\\linear_model\\_logistic.py:1247: FutureWarning: 'multi_class' was deprecated in version 1.5 and will be removed in 1.7. From then on, it will always use 'multinomial'. Leave it to its default value to avoid this warning.\n",
      "  warnings.warn(\n"
     ]
    },
    {
     "name": "stdout",
     "output_type": "stream",
     "text": [
      "Iteration 31: Removed features indices [40, 60, 223, 14, 231]. Remaining features: 102\n"
     ]
    },
    {
     "name": "stderr",
     "output_type": "stream",
     "text": [
      "C:\\Users\\ambro\\AppData\\Local\\Programs\\Python\\Python312\\Lib\\site-packages\\sklearn\\linear_model\\_logistic.py:1247: FutureWarning: 'multi_class' was deprecated in version 1.5 and will be removed in 1.7. From then on, it will always use 'multinomial'. Leave it to its default value to avoid this warning.\n",
      "  warnings.warn(\n"
     ]
    },
    {
     "name": "stdout",
     "output_type": "stream",
     "text": [
      "Iteration 32: Removed features indices [31, 230, 33, 108, 224]. Remaining features: 97\n"
     ]
    },
    {
     "name": "stderr",
     "output_type": "stream",
     "text": [
      "C:\\Users\\ambro\\AppData\\Local\\Programs\\Python\\Python312\\Lib\\site-packages\\sklearn\\linear_model\\_logistic.py:1247: FutureWarning: 'multi_class' was deprecated in version 1.5 and will be removed in 1.7. From then on, it will always use 'multinomial'. Leave it to its default value to avoid this warning.\n",
      "  warnings.warn(\n"
     ]
    },
    {
     "name": "stdout",
     "output_type": "stream",
     "text": [
      "Iteration 33: Removed features indices [235, 112, 109, 88, 189]. Remaining features: 92\n"
     ]
    },
    {
     "name": "stderr",
     "output_type": "stream",
     "text": [
      "C:\\Users\\ambro\\AppData\\Local\\Programs\\Python\\Python312\\Lib\\site-packages\\sklearn\\linear_model\\_logistic.py:1247: FutureWarning: 'multi_class' was deprecated in version 1.5 and will be removed in 1.7. From then on, it will always use 'multinomial'. Leave it to its default value to avoid this warning.\n",
      "  warnings.warn(\n"
     ]
    },
    {
     "name": "stdout",
     "output_type": "stream",
     "text": [
      "Iteration 34: Removed features indices [142, 86, 27, 79, 1]. Remaining features: 87\n"
     ]
    },
    {
     "name": "stderr",
     "output_type": "stream",
     "text": [
      "C:\\Users\\ambro\\AppData\\Local\\Programs\\Python\\Python312\\Lib\\site-packages\\sklearn\\linear_model\\_logistic.py:1247: FutureWarning: 'multi_class' was deprecated in version 1.5 and will be removed in 1.7. From then on, it will always use 'multinomial'. Leave it to its default value to avoid this warning.\n",
      "  warnings.warn(\n"
     ]
    },
    {
     "name": "stdout",
     "output_type": "stream",
     "text": [
      "Iteration 35: Removed features indices [87, 80, 6, 8, 42]. Remaining features: 82\n"
     ]
    },
    {
     "name": "stderr",
     "output_type": "stream",
     "text": [
      "C:\\Users\\ambro\\AppData\\Local\\Programs\\Python\\Python312\\Lib\\site-packages\\sklearn\\linear_model\\_logistic.py:1247: FutureWarning: 'multi_class' was deprecated in version 1.5 and will be removed in 1.7. From then on, it will always use 'multinomial'. Leave it to its default value to avoid this warning.\n",
      "  warnings.warn(\n"
     ]
    },
    {
     "name": "stdout",
     "output_type": "stream",
     "text": [
      "Iteration 36: Removed features indices [111, 53, 43, 162, 103]. Remaining features: 77\n"
     ]
    },
    {
     "name": "stderr",
     "output_type": "stream",
     "text": [
      "C:\\Users\\ambro\\AppData\\Local\\Programs\\Python\\Python312\\Lib\\site-packages\\sklearn\\linear_model\\_logistic.py:1247: FutureWarning: 'multi_class' was deprecated in version 1.5 and will be removed in 1.7. From then on, it will always use 'multinomial'. Leave it to its default value to avoid this warning.\n",
      "  warnings.warn(\n"
     ]
    },
    {
     "name": "stdout",
     "output_type": "stream",
     "text": [
      "Iteration 37: Removed features indices [160, 161, 99, 38, 226]. Remaining features: 72\n"
     ]
    },
    {
     "name": "stderr",
     "output_type": "stream",
     "text": [
      "C:\\Users\\ambro\\AppData\\Local\\Programs\\Python\\Python312\\Lib\\site-packages\\sklearn\\linear_model\\_logistic.py:1247: FutureWarning: 'multi_class' was deprecated in version 1.5 and will be removed in 1.7. From then on, it will always use 'multinomial'. Leave it to its default value to avoid this warning.\n",
      "  warnings.warn(\n"
     ]
    },
    {
     "name": "stdout",
     "output_type": "stream",
     "text": [
      "Iteration 38: Removed features indices [98, 255, 10, 55, 218]. Remaining features: 67\n"
     ]
    },
    {
     "name": "stderr",
     "output_type": "stream",
     "text": [
      "C:\\Users\\ambro\\AppData\\Local\\Programs\\Python\\Python312\\Lib\\site-packages\\sklearn\\linear_model\\_logistic.py:1247: FutureWarning: 'multi_class' was deprecated in version 1.5 and will be removed in 1.7. From then on, it will always use 'multinomial'. Leave it to its default value to avoid this warning.\n",
      "  warnings.warn(\n"
     ]
    },
    {
     "name": "stdout",
     "output_type": "stream",
     "text": [
      "Iteration 39: Removed features indices [12, 7, 25, 110, 205]. Remaining features: 62\n"
     ]
    },
    {
     "name": "stderr",
     "output_type": "stream",
     "text": [
      "C:\\Users\\ambro\\AppData\\Local\\Programs\\Python\\Python312\\Lib\\site-packages\\sklearn\\linear_model\\_logistic.py:1247: FutureWarning: 'multi_class' was deprecated in version 1.5 and will be removed in 1.7. From then on, it will always use 'multinomial'. Leave it to its default value to avoid this warning.\n",
      "  warnings.warn(\n"
     ]
    },
    {
     "name": "stdout",
     "output_type": "stream",
     "text": [
      "Iteration 40: Removed features indices [204, 243, 46, 28, 145]. Remaining features: 57\n"
     ]
    },
    {
     "name": "stderr",
     "output_type": "stream",
     "text": [
      "C:\\Users\\ambro\\AppData\\Local\\Programs\\Python\\Python312\\Lib\\site-packages\\sklearn\\linear_model\\_logistic.py:1247: FutureWarning: 'multi_class' was deprecated in version 1.5 and will be removed in 1.7. From then on, it will always use 'multinomial'. Leave it to its default value to avoid this warning.\n",
      "  warnings.warn(\n"
     ]
    },
    {
     "name": "stdout",
     "output_type": "stream",
     "text": [
      "Iteration 41: Removed features indices [195, 41, 44, 216, 96]. Remaining features: 52\n"
     ]
    },
    {
     "name": "stderr",
     "output_type": "stream",
     "text": [
      "C:\\Users\\ambro\\AppData\\Local\\Programs\\Python\\Python312\\Lib\\site-packages\\sklearn\\linear_model\\_logistic.py:1247: FutureWarning: 'multi_class' was deprecated in version 1.5 and will be removed in 1.7. From then on, it will always use 'multinomial'. Leave it to its default value to avoid this warning.\n",
      "  warnings.warn(\n"
     ]
    },
    {
     "name": "stdout",
     "output_type": "stream",
     "text": [
      "Iteration 42: Removed features indices [217, 229, 144, 54, 209]. Remaining features: 47\n"
     ]
    },
    {
     "name": "stderr",
     "output_type": "stream",
     "text": [
      "C:\\Users\\ambro\\AppData\\Local\\Programs\\Python\\Python312\\Lib\\site-packages\\sklearn\\linear_model\\_logistic.py:1247: FutureWarning: 'multi_class' was deprecated in version 1.5 and will be removed in 1.7. From then on, it will always use 'multinomial'. Leave it to its default value to avoid this warning.\n",
      "  warnings.warn(\n"
     ]
    },
    {
     "name": "stdout",
     "output_type": "stream",
     "text": [
      "Iteration 43: Removed features indices [192, 114, 35, 26, 115]. Remaining features: 42\n"
     ]
    },
    {
     "name": "stderr",
     "output_type": "stream",
     "text": [
      "C:\\Users\\ambro\\AppData\\Local\\Programs\\Python\\Python312\\Lib\\site-packages\\sklearn\\linear_model\\_logistic.py:1247: FutureWarning: 'multi_class' was deprecated in version 1.5 and will be removed in 1.7. From then on, it will always use 'multinomial'. Leave it to its default value to avoid this warning.\n",
      "  warnings.warn(\n"
     ]
    },
    {
     "name": "stdout",
     "output_type": "stream",
     "text": [
      "Iteration 44: Removed features indices [105, 29, 61, 237, 233]. Remaining features: 37\n"
     ]
    },
    {
     "name": "stderr",
     "output_type": "stream",
     "text": [
      "C:\\Users\\ambro\\AppData\\Local\\Programs\\Python\\Python312\\Lib\\site-packages\\sklearn\\linear_model\\_logistic.py:1247: FutureWarning: 'multi_class' was deprecated in version 1.5 and will be removed in 1.7. From then on, it will always use 'multinomial'. Leave it to its default value to avoid this warning.\n",
      "  warnings.warn(\n"
     ]
    },
    {
     "name": "stdout",
     "output_type": "stream",
     "text": [
      "Iteration 45: Removed features indices [59, 95, 215, 81, 11]. Remaining features: 32\n"
     ]
    },
    {
     "name": "stderr",
     "output_type": "stream",
     "text": [
      "C:\\Users\\ambro\\AppData\\Local\\Programs\\Python\\Python312\\Lib\\site-packages\\sklearn\\linear_model\\_logistic.py:1247: FutureWarning: 'multi_class' was deprecated in version 1.5 and will be removed in 1.7. From then on, it will always use 'multinomial'. Leave it to its default value to avoid this warning.\n",
      "  warnings.warn(\n"
     ]
    },
    {
     "name": "stdout",
     "output_type": "stream",
     "text": [
      "Iteration 46: Removed features indices [13, 221, 65, 20, 16]. Remaining features: 27\n"
     ]
    },
    {
     "name": "stderr",
     "output_type": "stream",
     "text": [
      "C:\\Users\\ambro\\AppData\\Local\\Programs\\Python\\Python312\\Lib\\site-packages\\sklearn\\linear_model\\_logistic.py:1247: FutureWarning: 'multi_class' was deprecated in version 1.5 and will be removed in 1.7. From then on, it will always use 'multinomial'. Leave it to its default value to avoid this warning.\n",
      "  warnings.warn(\n"
     ]
    },
    {
     "name": "stdout",
     "output_type": "stream",
     "text": [
      "Iteration 47: Removed features indices [83, 63, 22, 15, 82]. Remaining features: 22\n"
     ]
    },
    {
     "name": "stderr",
     "output_type": "stream",
     "text": [
      "C:\\Users\\ambro\\AppData\\Local\\Programs\\Python\\Python312\\Lib\\site-packages\\sklearn\\linear_model\\_logistic.py:1247: FutureWarning: 'multi_class' was deprecated in version 1.5 and will be removed in 1.7. From then on, it will always use 'multinomial'. Leave it to its default value to avoid this warning.\n",
      "  warnings.warn(\n"
     ]
    },
    {
     "name": "stdout",
     "output_type": "stream",
     "text": [
      "Iteration 48: Removed features indices [84, 85, 58, 64, 52]. Remaining features: 17\n"
     ]
    },
    {
     "name": "stderr",
     "output_type": "stream",
     "text": [
      "C:\\Users\\ambro\\AppData\\Local\\Programs\\Python\\Python312\\Lib\\site-packages\\sklearn\\linear_model\\_logistic.py:1247: FutureWarning: 'multi_class' was deprecated in version 1.5 and will be removed in 1.7. From then on, it will always use 'multinomial'. Leave it to its default value to avoid this warning.\n",
      "  warnings.warn(\n"
     ]
    },
    {
     "name": "stdout",
     "output_type": "stream",
     "text": [
      "Iteration 49: Removed features indices [66, 239, 17, 104, 244]. Remaining features: 12\n"
     ]
    },
    {
     "name": "stderr",
     "output_type": "stream",
     "text": [
      "C:\\Users\\ambro\\AppData\\Local\\Programs\\Python\\Python312\\Lib\\site-packages\\sklearn\\linear_model\\_logistic.py:1247: FutureWarning: 'multi_class' was deprecated in version 1.5 and will be removed in 1.7. From then on, it will always use 'multinomial'. Leave it to its default value to avoid this warning.\n",
      "  warnings.warn(\n"
     ]
    },
    {
     "name": "stdout",
     "output_type": "stream",
     "text": [
      "Iteration 50: Removed features indices [36, 94]. Remaining features: 10\n",
      "Final selected features (True means selected):\n",
      "[False False  True False False False False False False False False False\n",
      " False False False False False False  True  True False  True False  True\n",
      " False False False False False False False False False False False False\n",
      " False  True False False False False False False False False False False\n",
      " False False False False False False False False False  True False False\n",
      " False False False False False False False False False False False False\n",
      " False False False False False False False False False False False False\n",
      " False False False False False False False False False False False False\n",
      " False False False False False False False False False False False False\n",
      " False False False False False False False False False False False False\n",
      " False False False False False False False False False False False False\n",
      " False False False False False False False False False False False False\n",
      " False False False False False False False False False False False False\n",
      " False False False False False False False False False False False False\n",
      " False False False False False False False False False False False False\n",
      " False False False False False False False False False False False False\n",
      " False False False False False False False False False False False False\n",
      " False False False False False False False False False False False False\n",
      " False False False False False False  True False False False False False\n",
      " False False False False False False False False False False False False\n",
      " False  True  True False False False False False False False False False\n",
      " False False False False False]\n"
     ]
    },
    {
     "name": "stderr",
     "output_type": "stream",
     "text": [
      "C:\\Users\\ambro\\AppData\\Local\\Programs\\Python\\Python312\\Lib\\site-packages\\sklearn\\linear_model\\_logistic.py:1247: FutureWarning: 'multi_class' was deprecated in version 1.5 and will be removed in 1.7. From then on, it will always use 'multinomial'. Leave it to its default value to avoid this warning.\n",
      "  warnings.warn(\n"
     ]
    },
    {
     "name": "stdout",
     "output_type": "stream",
     "text": [
      "\n",
      "Classification Report with RFE-selected Features:\n",
      "                 precision    recall  f1-score   support\n",
      "\n",
      "Class 1 Obesity       0.33      0.86      0.48      2941\n",
      "Class 2 Obesity       0.28      0.04      0.06      1297\n",
      "Class 3 Obesity       0.54      0.58      0.56       996\n",
      " Healthy Weight       0.67      0.42      0.51      5042\n",
      "     Overweight       0.35      0.00      0.00      5379\n",
      "    Underweight       0.05      0.66      0.09       280\n",
      "\n",
      "       accuracy                           0.34     15935\n",
      "      macro avg       0.37      0.43      0.28     15935\n",
      "   weighted avg       0.45      0.34      0.29     15935\n",
      "\n"
     ]
    }
   ],
   "source": [
    "# -------------------------------\n",
    "# Step 10: Feature Selection using Custom RFE and Retraining Logistic Regression\n",
    "# -------------------------------\n",
    "# (We use the scaled training and test data from Cell 8.)\n",
    "\n",
    "# Define the base logistic regression model with class weighting.\n",
    "base_model = LogisticRegression(multi_class='multinomial', penalty='l2',\n",
    "                                  solver='lbfgs', max_iter=600, class_weight='balanced', random_state=42)\n",
    "\n",
    "# Desired number of features to select\n",
    "n_features_to_select = 10\n",
    "\n",
    "def custom_rfe(estimator, X, y, n_features_to_select, step=5):\n",
    "    \"\"\"\n",
    "    Custom Recursive Feature Elimination: removes 'step' features per iteration until \n",
    "    only n_features_to_select remain.\n",
    "    \"\"\"\n",
    "    n_features = X.shape[1]\n",
    "    support_ = np.ones(n_features, dtype=bool)\n",
    "    ranking_ = np.ones(n_features, dtype=int)\n",
    "    iteration = 0\n",
    "    \n",
    "    while np.sum(support_) > n_features_to_select:\n",
    "        iteration += 1\n",
    "        estimator_clone = clone(estimator)\n",
    "        estimator_clone.fit(X[:, support_], y)\n",
    "        \n",
    "        # Use average absolute coefficient values as importance\n",
    "        if hasattr(estimator_clone, 'coef_'):\n",
    "            scores = np.mean(np.abs(estimator_clone.coef_), axis=0)\n",
    "        else:\n",
    "            raise ValueError(\"Estimator does not have coef_ attribute.\")\n",
    "        \n",
    "        current_features_idx = np.where(support_)[0]\n",
    "        n_current = len(current_features_idx)\n",
    "        n_to_remove = min(step, n_current - n_features_to_select)\n",
    "        \n",
    "        # Identify the least important features\n",
    "        sorted_idx = np.argsort(scores)\n",
    "        remove_idx = current_features_idx[sorted_idx[:n_to_remove]]\n",
    "        \n",
    "        ranking_[remove_idx] = iteration + 1\n",
    "        support_[remove_idx] = False\n",
    "        \n",
    "        print(f\"Iteration {iteration}: Removed features indices {remove_idx.tolist()}. Remaining features: {np.sum(support_)}\")\n",
    "    \n",
    "    return support_, ranking_\n",
    "\n",
    "# Apply custom RFE using the original (non-resampled) training data.\n",
    "support_, ranking_ = custom_rfe(base_model, X_train_scaled.values, y_train.values, n_features_to_select, step=5)\n",
    "print(\"Final selected features (True means selected):\")\n",
    "print(support_)\n",
    "\n",
    "# Subset the training and test sets to only the selected features.\n",
    "selected_columns = X_train_scaled.columns[support_]\n",
    "X_train_rfe = X_train_scaled[selected_columns]\n",
    "X_test_rfe = X_test_scaled[selected_columns]\n",
    "\n",
    "# Apply SMOTE on the selected features\n",
    "X_train_rfe_res, y_train_rfe_res = smote.fit_resample(X_train_rfe, y_train)\n",
    "\n",
    "# Retrain logistic regression on the SMOTE-resampled, RFE-selected features.\n",
    "lr_rfe = LogisticRegression(multi_class='multinomial', penalty='l2',\n",
    "                            solver='lbfgs', max_iter=600, class_weight='balanced', random_state=42)\n",
    "lr_rfe.fit(X_train_rfe_res, y_train_rfe_res)\n",
    "\n",
    "# Evaluate on the test set using the selected features.\n",
    "y_pred_rfe = lr_rfe.predict(X_test_rfe)\n",
    "print(\"\\nClassification Report with RFE-selected Features:\")\n",
    "print(classification_report(y_test, y_pred_rfe))\n"
   ]
  },
  {
   "cell_type": "code",
   "execution_count": 12,
   "id": "f19705c1-969b-417d-bc3b-d3cdb970d462",
   "metadata": {},
   "outputs": [
    {
     "name": "stdout",
     "output_type": "stream",
     "text": [
      "Training Performance:\n",
      "                 precision    recall  f1-score   support\n",
      "\n",
      "Class 1 Obesity       0.44      0.44      0.44     21512\n",
      "Class 2 Obesity       0.50      0.51      0.50     21512\n",
      "Class 3 Obesity       0.67      0.71      0.69     21512\n",
      " Healthy Weight       0.62      0.65      0.63     21512\n",
      "     Overweight       0.43      0.32      0.37     21512\n",
      "    Underweight       0.75      0.85      0.80     21512\n",
      "\n",
      "       accuracy                           0.58    129072\n",
      "      macro avg       0.57      0.58      0.57    129072\n",
      "   weighted avg       0.57      0.58      0.57    129072\n",
      "\n",
      "Test Performance:\n",
      "                 precision    recall  f1-score   support\n",
      "\n",
      "Class 1 Obesity       0.42      0.42      0.42      2941\n",
      "Class 2 Obesity       0.30      0.49      0.37      1297\n",
      "Class 3 Obesity       0.44      0.70      0.54       996\n",
      " Healthy Weight       0.69      0.63      0.66      5042\n",
      "     Overweight       0.56      0.32      0.40      5379\n",
      "    Underweight       0.15      0.82      0.25       280\n",
      "\n",
      "       accuracy                           0.48     15935\n",
      "      macro avg       0.42      0.56      0.44     15935\n",
      "   weighted avg       0.54      0.48      0.49     15935\n",
      "\n"
     ]
    },
    {
     "data": {
      "image/png": "[encoded data removed]",
      "text/plain": [
       "<Figure size 800x600 with 1 Axes>"
      ]
     },
     "metadata": {},
     "output_type": "display_data"
    }
   ],
   "source": [
    "# -------------------------------\n",
    "# Step 11: Detailed Performance Evaluation and Visualization\n",
    "# -------------------------------\n",
    "\n",
    "# Using the baseline logistic regression model (from Cell 10)\n",
    "# Predict on SMOTE-resampled training data and scaled test data\n",
    "y_pred_train = log_reg.predict(X_train_res)\n",
    "y_pred_test = log_reg.predict(X_test_scaled)\n",
    "\n",
    "print(\"Training Performance:\")\n",
    "print(classification_report(y_train_res, y_pred_train))\n",
    "print(\"Test Performance:\")\n",
    "print(classification_report(y_test, y_pred_test))\n",
    "\n",
    "# Extract metrics for plotting (using output_dict=True to obtain a metrics dictionary)\n",
    "train_report = classification_report(y_train_res, y_pred_train, output_dict=True)\n",
    "test_report  = classification_report(y_test, y_pred_test, output_dict=True)\n",
    "\n",
    "# Define metrics to plot: overall accuracy and macro averages of precision, recall, f1-score\n",
    "metrics_labels = ['Accuracy', 'Precision', 'Recall', 'F1-score']\n",
    "\n",
    "train_scores = [\n",
    "    train_report['accuracy'],\n",
    "    train_report['macro avg']['precision'],\n",
    "    train_report['macro avg']['recall'],\n",
    "    train_report['macro avg']['f1-score']\n",
    "]\n",
    "\n",
    "test_scores = [\n",
    "    test_report['accuracy'],\n",
    "    test_report['macro avg']['precision'],\n",
    "    test_report['macro avg']['recall'],\n",
    "    test_report['macro avg']['f1-score']\n",
    "]\n",
    "\n",
    "# Create a grouped bar chart for comparison\n",
    "x = range(len(metrics_labels))\n",
    "plt.figure(figsize=(8, 6))\n",
    "plt.bar([p - 0.2 for p in x], train_scores, width=0.4, label='Train')\n",
    "plt.bar([p + 0.2 for p in x], test_scores, width=0.4, label='Test')\n",
    "plt.xticks(x, metrics_labels)\n",
    "plt.ylim(0, 1)\n",
    "plt.ylabel('Score')\n",
    "plt.title('Training vs Test Performance')\n",
    "plt.legend()\n",
    "plt.show()\n"
   ]
  },
  {
   "cell_type": "code",
   "execution_count": 16,
   "id": "edd97a49-74d2-48fa-a0bb-89d89d552186",
   "metadata": {},
   "outputs": [
    {
     "name": "stderr",
     "output_type": "stream",
     "text": [
      "C:\\Users\\ambro\\AppData\\Local\\Programs\\Python\\Python312\\Lib\\site-packages\\sklearn\\linear_model\\_logistic.py:1247: FutureWarning: 'multi_class' was deprecated in version 1.5 and will be removed in 1.7. From then on, it will always use 'multinomial'. Leave it to its default value to avoid this warning.\n",
      "  warnings.warn(\n",
      "C:\\Users\\ambro\\AppData\\Local\\Programs\\Python\\Python312\\Lib\\site-packages\\sklearn\\linear_model\\_logistic.py:1247: FutureWarning: 'multi_class' was deprecated in version 1.5 and will be removed in 1.7. From then on, it will always use 'multinomial'. Leave it to its default value to avoid this warning.\n",
      "  warnings.warn(\n",
      "C:\\Users\\ambro\\AppData\\Local\\Programs\\Python\\Python312\\Lib\\site-packages\\sklearn\\linear_model\\_logistic.py:1247: FutureWarning: 'multi_class' was deprecated in version 1.5 and will be removed in 1.7. From then on, it will always use 'multinomial'. Leave it to its default value to avoid this warning.\n",
      "  warnings.warn(\n",
      "C:\\Users\\ambro\\AppData\\Local\\Programs\\Python\\Python312\\Lib\\site-packages\\sklearn\\linear_model\\_logistic.py:1247: FutureWarning: 'multi_class' was deprecated in version 1.5 and will be removed in 1.7. From then on, it will always use 'multinomial'. Leave it to its default value to avoid this warning.\n",
      "  warnings.warn(\n",
      "C:\\Users\\ambro\\AppData\\Local\\Programs\\Python\\Python312\\Lib\\site-packages\\sklearn\\linear_model\\_logistic.py:1247: FutureWarning: 'multi_class' was deprecated in version 1.5 and will be removed in 1.7. From then on, it will always use 'multinomial'. Leave it to its default value to avoid this warning.\n",
      "  warnings.warn(\n"
     ]
    },
    {
     "data": {
      "image/png": "[encoded data removed]",
      "text/plain": [
       "<Figure size 1200x600 with 2 Axes>"
      ]
     },
     "metadata": {},
     "output_type": "display_data"
    }
   ],
   "source": [
    "# -------------------------------\n",
    "# Step 12: Model Sensitivity Analysis on Regularization Parameter (C)\n",
    "# -------------------------------\n",
    "\n",
    "# Define a list of C values to try (inverse of regularization strength)\n",
    "c_values = [0.01, 0.1, 1, 10, 100]\n",
    "\n",
    "train_accuracies = []\n",
    "test_accuracies = []\n",
    "train_f1s = []\n",
    "test_f1s = []\n",
    "\n",
    "for c in c_values:\n",
    "    # Initialize logistic regression with current C; use class_weight='balanced' as before\n",
    "    lr_temp = LogisticRegression(multi_class='multinomial', solver='lbfgs', max_iter=1000,\n",
    "                                 C=c, class_weight='balanced', random_state=42)\n",
    "    # Fit on SMOTE-resampled training data\n",
    "    lr_temp.fit(X_train_res, y_train_res)\n",
    "    \n",
    "    # Predictions for training and test sets\n",
    "    y_pred_train_temp = lr_temp.predict(X_train_res)\n",
    "    y_pred_test_temp = lr_temp.predict(X_test_scaled)\n",
    "    \n",
    "    # Record accuracy and macro F1 score\n",
    "    train_accuracies.append(accuracy_score(y_train_res, y_pred_train_temp))\n",
    "    test_accuracies.append(accuracy_score(y_test, y_pred_test_temp))\n",
    "    train_f1s.append(f1_score(y_train_res, y_pred_train_temp, average='macro'))\n",
    "    test_f1s.append(f1_score(y_test, y_pred_test_temp, average='macro'))\n",
    "\n",
    "# Plotting the performance metrics\n",
    "plt.figure(figsize=(12, 6))\n",
    "\n",
    "# Accuracy plot\n",
    "plt.subplot(1, 2, 1)\n",
    "plt.plot(c_values, train_accuracies, marker='o', label='Train Accuracy')\n",
    "plt.plot(c_values, test_accuracies, marker='o', label='Test Accuracy')\n",
    "plt.xscale('log')\n",
    "plt.xlabel('C (log scale)')\n",
    "plt.ylabel('Accuracy')\n",
    "plt.title('Accuracy vs. C')\n",
    "plt.legend()\n",
    "\n",
    "# F1 Macro Score plot\n",
    "plt.subplot(1, 2, 2)\n",
    "plt.plot(c_values, train_f1s, marker='o', label='Train F1 Macro')\n",
    "plt.plot(c_values, test_f1s, marker='o', label='Test F1 Macro')\n",
    "plt.xscale('log')\n",
    "plt.xlabel('C (log scale)')\n",
    "plt.ylabel('F1 Macro Score')\n",
    "plt.title('F1 Macro vs. C')\n",
    "plt.legend()\n",
    "\n",
    "plt.tight_layout()\n",
    "plt.show()\n"
   ]
  },
  {
   "cell_type": "code",
   "execution_count": 17,
   "id": "a14923d2-5d39-427c-b823-a4ca312f7246",
   "metadata": {},
   "outputs": [
    {
     "name": "stderr",
     "output_type": "stream",
     "text": [
      "C:\\Users\\ambro\\AppData\\Local\\Programs\\Python\\Python312\\Lib\\site-packages\\sklearn\\linear_model\\_logistic.py:1247: FutureWarning: 'multi_class' was deprecated in version 1.5 and will be removed in 1.7. From then on, it will always use 'multinomial'. Leave it to its default value to avoid this warning.\n",
      "  warnings.warn(\n",
      "C:\\Users\\ambro\\AppData\\Local\\Programs\\Python\\Python312\\Lib\\site-packages\\sklearn\\linear_model\\_logistic.py:1247: FutureWarning: 'multi_class' was deprecated in version 1.5 and will be removed in 1.7. From then on, it will always use 'multinomial'. Leave it to its default value to avoid this warning.\n",
      "  warnings.warn(\n",
      "C:\\Users\\ambro\\AppData\\Local\\Programs\\Python\\Python312\\Lib\\site-packages\\sklearn\\linear_model\\_logistic.py:1247: FutureWarning: 'multi_class' was deprecated in version 1.5 and will be removed in 1.7. From then on, it will always use 'multinomial'. Leave it to its default value to avoid this warning.\n",
      "  warnings.warn(\n",
      "C:\\Users\\ambro\\AppData\\Local\\Programs\\Python\\Python312\\Lib\\site-packages\\sklearn\\linear_model\\_logistic.py:1247: FutureWarning: 'multi_class' was deprecated in version 1.5 and will be removed in 1.7. From then on, it will always use 'multinomial'. Leave it to its default value to avoid this warning.\n",
      "  warnings.warn(\n",
      "C:\\Users\\ambro\\AppData\\Local\\Programs\\Python\\Python312\\Lib\\site-packages\\sklearn\\linear_model\\_logistic.py:1247: FutureWarning: 'multi_class' was deprecated in version 1.5 and will be removed in 1.7. From then on, it will always use 'multinomial'. Leave it to its default value to avoid this warning.\n",
      "  warnings.warn(\n"
     ]
    },
    {
     "data": {
      "image/png": "[encoded data removed]",
      "text/plain": [
       "<Figure size 1200x600 with 2 Axes>"
      ]
     },
     "metadata": {},
     "output_type": "display_data"
    }
   ],
   "source": [
    "# -------------------------------\n",
    "# Step 13: Model Sensitivity Analysis on Regularization Parameter (C)\n",
    "# -------------------------------\n",
    "from sklearn.metrics import f1_score\n",
    "\n",
    "# Define a list of C values to try (inverse of regularization strength)\n",
    "c_values = [0.01, 0.1, 1, 10, 100]\n",
    "\n",
    "train_accuracies = []\n",
    "test_accuracies = []\n",
    "train_f1s = []\n",
    "test_f1s = []\n",
    "\n",
    "for c in c_values:\n",
    "    # Initialize logistic regression with current C; use class_weight='balanced' as before\n",
    "    lr_temp = LogisticRegression(multi_class='multinomial', solver='lbfgs', max_iter=1000,\n",
    "                                 C=c, class_weight='balanced', random_state=42)\n",
    "    # Fit on SMOTE-resampled training data\n",
    "    lr_temp.fit(X_train_res, y_train_res)\n",
    "    \n",
    "    # Predictions for training and test sets\n",
    "    y_pred_train_temp = lr_temp.predict(X_train_res)\n",
    "    y_pred_test_temp = lr_temp.predict(X_test_scaled)\n",
    "    \n",
    "    # Record accuracy and macro F1 score\n",
    "    train_accuracies.append(accuracy_score(y_train_res, y_pred_train_temp))\n",
    "    test_accuracies.append(accuracy_score(y_test, y_pred_test_temp))\n",
    "    train_f1s.append(f1_score(y_train_res, y_pred_train_temp, average='macro'))\n",
    "    test_f1s.append(f1_score(y_test, y_pred_test_temp, average='macro'))\n",
    "\n",
    "# Plotting the performance metrics\n",
    "plt.figure(figsize=(12, 6))\n",
    "\n",
    "# Accuracy plot\n",
    "plt.subplot(1, 2, 1)\n",
    "plt.plot(c_values, train_accuracies, marker='o', label='Train Accuracy')\n",
    "plt.plot(c_values, test_accuracies, marker='o', label='Test Accuracy')\n",
    "plt.xscale('log')\n",
    "plt.xlabel('C (log scale)')\n",
    "plt.ylabel('Accuracy')\n",
    "plt.title('Accuracy vs. C')\n",
    "plt.legend()\n",
    "\n",
    "# F1 Macro Score plot\n",
    "plt.subplot(1, 2, 2)\n",
    "plt.plot(c_values, train_f1s, marker='o', label='Train F1 Macro')\n",
    "plt.plot(c_values, test_f1s, marker='o', label='Test F1 Macro')\n",
    "plt.xscale('log')\n",
    "plt.xlabel('C (log scale)')\n",
    "plt.ylabel('F1 Macro Score')\n",
    "plt.title('F1 Macro vs. C')\n",
    "plt.legend()\n",
    "\n",
    "plt.tight_layout()\n",
    "plt.show()\n"
   ]
  },
  {
   "cell_type": "code",
   "execution_count": 18,
   "id": "df4bedcf-5016-4ace-9988-35fd4aa0bb3c",
   "metadata": {},
   "outputs": [
    {
     "name": "stderr",
     "output_type": "stream",
     "text": [
      "C:\\Users\\ambro\\AppData\\Local\\Programs\\Python\\Python312\\Lib\\site-packages\\sklearn\\linear_model\\_logistic.py:1247: FutureWarning: 'multi_class' was deprecated in version 1.5 and will be removed in 1.7. From then on, it will always use 'multinomial'. Leave it to its default value to avoid this warning.\n",
      "  warnings.warn(\n"
     ]
    },
    {
     "name": "stdout",
     "output_type": "stream",
     "text": [
      "Training Performance with C = 1.0:\n",
      "                 precision    recall  f1-score   support\n",
      "\n",
      "Class 1 Obesity       0.44      0.44      0.44     21512\n",
      "Class 2 Obesity       0.50      0.51      0.50     21512\n",
      "Class 3 Obesity       0.67      0.71      0.69     21512\n",
      " Healthy Weight       0.62      0.65      0.63     21512\n",
      "     Overweight       0.43      0.32      0.37     21512\n",
      "    Underweight       0.75      0.85      0.80     21512\n",
      "\n",
      "       accuracy                           0.58    129072\n",
      "      macro avg       0.57      0.58      0.57    129072\n",
      "   weighted avg       0.57      0.58      0.57    129072\n",
      "\n",
      "Test Performance with C = 1.0:\n",
      "                 precision    recall  f1-score   support\n",
      "\n",
      "Class 1 Obesity       0.42      0.42      0.42      2941\n",
      "Class 2 Obesity       0.30      0.49      0.37      1297\n",
      "Class 3 Obesity       0.44      0.70      0.54       996\n",
      " Healthy Weight       0.69      0.63      0.66      5042\n",
      "     Overweight       0.56      0.32      0.40      5379\n",
      "    Underweight       0.15      0.82      0.25       280\n",
      "\n",
      "       accuracy                           0.48     15935\n",
      "      macro avg       0.42      0.56      0.44     15935\n",
      "   weighted avg       0.54      0.48      0.49     15935\n",
      "\n"
     ]
    }
   ],
   "source": [
    "# -------------------------------\n",
    "# Step 14: Train Logistic Regression with Specific Regularization (C=1.0)\n",
    "# -------------------------------\n",
    "specific_c = 1.0  # You can adjust this based on the sensitivity analysis results\n",
    "\n",
    "lr_specific = LogisticRegression(multi_class='multinomial', solver='lbfgs', max_iter=1000,\n",
    "                                 C=specific_c, class_weight='balanced', random_state=42)\n",
    "lr_specific.fit(X_train_res, y_train_res)\n",
    "\n",
    "y_pred_train_specific = lr_specific.predict(X_train_res)\n",
    "y_pred_test_specific  = lr_specific.predict(X_test_scaled)\n",
    "\n",
    "print(\"Training Performance with C = {}:\".format(specific_c))\n",
    "print(classification_report(y_train_res, y_pred_train_specific))\n",
    "print(\"Test Performance with C = {}:\".format(specific_c))\n",
    "print(classification_report(y_test, y_pred_test_specific))\n"
   ]
  },
  {
   "cell_type": "code",
   "execution_count": 19,
   "id": "ebc3e202-c67f-441b-aa37-e77ced7185a7",
   "metadata": {},
   "outputs": [
    {
     "name": "stderr",
     "output_type": "stream",
     "text": [
      "C:\\Users\\ambro\\AppData\\Local\\Programs\\Python\\Python312\\Lib\\site-packages\\sklearn\\linear_model\\_logistic.py:1247: FutureWarning: 'multi_class' was deprecated in version 1.5 and will be removed in 1.7. From then on, it will always use 'multinomial'. Leave it to its default value to avoid this warning.\n",
      "  warnings.warn(\n"
     ]
    },
    {
     "name": "stdout",
     "output_type": "stream",
     "text": [
      "Training Performance with manually selected features:\n",
      "                 precision    recall  f1-score   support\n",
      "\n",
      "Class 1 Obesity       0.22      0.18      0.20     11763\n",
      "Class 2 Obesity       0.14      0.18      0.16      5190\n",
      "Class 3 Obesity       0.12      0.28      0.17      3986\n",
      " Healthy Weight       0.39      0.22      0.28     20165\n",
      "     Overweight       0.39      0.22      0.28     21512\n",
      "    Underweight       0.04      0.49      0.07      1120\n",
      "\n",
      "       accuracy                           0.22     63736\n",
      "      macro avg       0.22      0.26      0.19     63736\n",
      "   weighted avg       0.31      0.22      0.24     63736\n",
      "\n",
      "Test Performance with manually selected features:\n",
      "                 precision    recall  f1-score   support\n",
      "\n",
      "Class 1 Obesity       0.22      0.18      0.20      2941\n",
      "Class 2 Obesity       0.14      0.18      0.16      1297\n",
      "Class 3 Obesity       0.12      0.29      0.17       996\n",
      " Healthy Weight       0.37      0.20      0.26      5042\n",
      "     Overweight       0.39      0.22      0.28      5379\n",
      "    Underweight       0.04      0.50      0.07       280\n",
      "\n",
      "       accuracy                           0.21     15935\n",
      "      macro avg       0.21      0.26      0.19     15935\n",
      "   weighted avg       0.31      0.21      0.24     15935\n",
      "\n"
     ]
    }
   ],
   "source": [
    "# -------------------------------\n",
    "# Step 15: Final Model with Manually Selected Features (Multinomial Logistic Regression)\n",
    "# -------------------------------\n",
    "\n",
    "# Define the manually selected features (replace these placeholders with your chosen feature names)\n",
    "manual_features_lr = [\n",
    "    'RIDAGEYR',\n",
    "    'INDFMPIR',\n",
    "    'WTMEC2YR',\n",
    "    'BPXOPLS3',\n",
    "    'BPXOPLS2',\n",
    "    'BPXOPLS1',\n",
    "    'DR1DBIH',\n",
    "    'WTDRD1',\n",
    "    'BPXOSY2',\n",
    "    'BPXOSY3',\n",
    "    'BPXOSY1',\n",
    "    'DR1ILINE',\n",
    "    'WTDR2D',\n",
    "    'PAD680'\n",
    "]\n",
    "\n",
    "# Subset the scaled training and test data to include only the manually selected features\n",
    "X_train_manual = X_train_scaled[manual_features_lr]\n",
    "X_test_manual  = X_test_scaled[manual_features_lr]\n",
    "\n",
    "# Apply SMOTE on the manually selected training data\n",
    "X_train_manual_res, y_train_manual_res = smote.fit_resample(X_train_manual, y_train)\n",
    "\n",
    "# Initialize and train logistic regression on the manual feature set\n",
    "lr_manual = LogisticRegression(multi_class='multinomial', solver='lbfgs', max_iter=1000,\n",
    "                               C=specific_c, class_weight='balanced', random_state=42)\n",
    "lr_manual.fit(X_train_manual_res, y_train_manual_res)\n",
    "\n",
    "# Evaluate performance\n",
    "y_pred_train_manual = lr_manual.predict(X_train_manual)\n",
    "y_pred_test_manual  = lr_manual.predict(X_test_manual)\n",
    "\n",
    "print(\"Training Performance with manually selected features:\")\n",
    "print(classification_report(y_train, y_pred_train_manual))\n",
    "print(\"Test Performance with manually selected features:\")\n",
    "print(classification_report(y_test, y_pred_test_manual))\n"
   ]
  },
  {
   "cell_type": "code",
   "execution_count": null,
   "id": "ec1ae5ae-bcb0-4077-beda-0b75e3725483",
   "metadata": {},
   "outputs": [],
   "source": []
  }
 ],
 "metadata": {
  "colab": {
   "provenance": []
  },
  "kernelspec": {
   "display_name": "Python 3 (ipykernel)",
   "language": "python",
   "name": "python3"
  },
  "language_info": {
   "codemirror_mode": {
    "name": "ipython",
    "version": 3
   },
   "file_extension": ".py",
   "mimetype": "text/x-python",
   "name": "python",
   "nbconvert_exporter": "python",
   "pygments_lexer": "ipython3",
   "version": "3.12.4"
  }
 },
 "nbformat": 4,
 "nbformat_minor": 5
}
